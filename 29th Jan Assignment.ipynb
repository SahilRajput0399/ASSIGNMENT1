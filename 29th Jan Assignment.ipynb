{
 "cells": [
  {
   "cell_type": "raw",
   "id": "b99d8bc0-4112-488e-92a7-66ceba61ce27",
   "metadata": {},
   "source": [
    "        #29th JAN ASSIGNMENT#\n",
    "\n",
    "Ques1: Who developed python programming language?\n",
    "\n",
    "Ans:  Python was developed by Guido van Rossum and was first released in 1991.\n",
    "\n"
   ]
  },
  {
   "cell_type": "raw",
   "id": "c3f76625-60d1-4231-add7-0007cc303c35",
   "metadata": {},
   "source": [
    "Ques2: Which type of Programming does Python support? \n",
    "\n",
    "Ans:  Python supports OOP, procedural programming, and functional programming."
   ]
  },
  {
   "cell_type": "raw",
   "id": "326bd6f6-dc3e-40f8-ad70-f64f587373e8",
   "metadata": {},
   "source": [
    "Ques3: Is Python case sensitive when dealing with identifiers? \n",
    "\n",
    "Ans:  Yes, Python is case-sensitive when dealing with identifiers such as variable names, function names, and class names."
   ]
  },
  {
   "cell_type": "raw",
   "id": "447bdff8-c006-41bd-99e0-f4bfbb04cf0a",
   "metadata": {},
   "source": [
    "Ques4:  What is the correct extension of the Python file? \n",
    "\n",
    "Ans:  \".py\" is the correct extension of the Python file. "
   ]
  },
  {
   "cell_type": "raw",
   "id": "19a06e6f-8a75-4249-824c-2181e154319d",
   "metadata": {},
   "source": [
    "Ques5:  Is Python code compiled or interpreted? \n",
    "\n",
    "Ans:  Python code is interpreted, not compiled.\n"
   ]
  },
  {
   "cell_type": "raw",
   "id": "2c49fcd5-9640-4cfe-922e-907da8161ef2",
   "metadata": {},
   "source": [
    "Ques6:  Name a few blocks of code used to define in Python language?\n",
    "\n",
    "Ans: In Python, there are several blocks of code used to define different constructs, such as functions, classes, if-else statements, loops, etc. \n"
   ]
  },
  {
   "cell_type": "raw",
   "id": "031f76f2-d3bb-4345-a5a3-1faf1204fcfa",
   "metadata": {},
   "source": [
    "Ques7: State a character used to give single-line comments in Python? \n",
    "\n",
    "Ans:  '#'"
   ]
  },
  {
   "cell_type": "raw",
   "id": "c635cabf-1c25-4a63-b9ec-22f28f998143",
   "metadata": {},
   "source": [
    "Ques8:  Mention functions which can help us to find the version of python that we are currently working on? \n",
    "\n",
    "Ans:  \"sys.version\" and \"platform.python_version()\" can help find the version of python."
   ]
  },
  {
   "cell_type": "raw",
   "id": "bd0f3364-1573-4039-9967-d24282c35e75",
   "metadata": {},
   "source": [
    "Ques9: Python supports the creation of anonymous functions at runtime, using a construct called? \n",
    "\n",
    "Ans:  In Python, anonymous functions can be created at runtime using a construct called a \"lambda function\".\n",
    "    A lambda function is a small, anonymous function that can take any number of arguments but can only have one expression."
   ]
  },
  {
   "cell_type": "raw",
   "id": "16c6b5cb-d614-4579-bde6-3fa1592f8875",
   "metadata": {},
   "source": [
    "Ques10:  What does pip stand for python? \n",
    "\n",
    "Ans:  pip stands for \"Pip Installs Packages\". Its a package management system."
   ]
  },
  {
   "cell_type": "raw",
   "id": "21d342a7-37b7-4faa-853f-861650307b01",
   "metadata": {},
   "source": [
    "Ques11: Mention a few built-in functions in Python? \n",
    "\n",
    "Ans:   print(), len(), range(), and input()."
   ]
  },
  {
   "cell_type": "raw",
   "id": "79699edc-3bc9-4d18-a060-7143fc9a3ae6",
   "metadata": {},
   "source": [
    "Ques12: What is the maximum possible length of an identifier in Python? \n",
    "\n",
    "Ans:  There is no explicit limit to the length of an identifier in Python. "
   ]
  },
  {
   "cell_type": "raw",
   "id": "7e4c6321-98d7-462d-801b-7c7f5ff504ab",
   "metadata": {},
   "source": [
    "Ques13:  What are the benefits of using Python? \n",
    "\n",
    "Ans:  1:Easy to learn and use: Python has a simple, straightforward syntax that is easy to read and write. \n",
    "      2:Versatile: Python can be used for a wide variety of tasks, such as web development, data analysis, artificial intelligence, and more.\n",
    "      3:Plenty of libraries: Python has a rich ecosystem of libraries and modules.\n",
    "      4:Cross-platform compatibility: Python can run on multiple platforms, including Windows, MacOS, and Linux."
   ]
  },
  {
   "cell_type": "raw",
   "id": "06e93f56-5d50-4bac-8a3f-994e560e3db2",
   "metadata": {},
   "source": [
    "Ques14:   How is memory managed in Python? \n",
    "\n",
    "Ans:  Memory management is done automatically in python using a memory management system known as a \"garbage collector\". The garbage collector automatically             tracks and frees up memory that is no longer being used by the program."
   ]
  },
  {
   "cell_type": "raw",
   "id": "89453af2-5f71-49a9-840b-7ff1ac357ea7",
   "metadata": {},
   "source": [
    "Ques15:  How to install Python on Windows and set path variables? \n",
    "\n",
    "Ans:  To install Python on Windows:\n",
    "        - Download the Python installer from the official website: https://www.python.org/downloads/\n",
    "        -  Run the installer and follow the instructions.\n",
    "        -  After the installation is complete, you can verify that Python has been installed correctly.\n",
    "      \n",
    "      To set the PATH environment variable, follow these steps:\n",
    "      -  Open the Start menu and search for \"Environment Variables\".\n",
    "      -  Click on \"Edit the system environment variables\".\n",
    "      -  In the System Properties dialog, click on the \"Environment Variables\" button. \n",
    "      -  Under \"System Variables\", scroll down and find the \"Path\" variable, then click on \"Edit\".\n",
    "      -  Click on \"New\" and add the location of the Python executable, which is usually located in the C:\\PythonXX\\ directory, where XX is the version number of            Python you have installed.\n",
    "      -  Click \"OK\" to close all dialogs and save the changes.\n",
    "      -  Close and reopen any command prompts for the changes to take effect. You should now be able to run Python from any command prompt by typing python.\n",
    "    "
   ]
  },
  {
   "cell_type": "raw",
   "id": "61cf388c-353b-4672-b895-63f628a92f45",
   "metadata": {},
   "source": [
    "Ques16:  Is indentation required in python? \n",
    "\n",
    "Ans: Yes, indentation is required in Python. Indentation is used to define blocks of code, such as loops, functions, and classes. "
   ]
  }
 ],
 "metadata": {
  "kernelspec": {
   "display_name": "Python 3 (ipykernel)",
   "language": "python",
   "name": "python3"
  },
  "language_info": {
   "codemirror_mode": {
    "name": "ipython",
    "version": 3
   },
   "file_extension": ".py",
   "mimetype": "text/x-python",
   "name": "python",
   "nbconvert_exporter": "python",
   "pygments_lexer": "ipython3",
   "version": "3.10.8"
  }
 },
 "nbformat": 4,
 "nbformat_minor": 5
}
