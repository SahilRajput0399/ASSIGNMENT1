{
 "cells": [
  {
   "cell_type": "markdown",
   "id": "e139d11d-fbcf-41e5-aeca-6b34182e6516",
   "metadata": {},
   "source": [
    "Consider the below code to answer further questions:\n",
    "import numpy as np\n",
    "list_ =  [ '1' , '2' , '3' , '4' , '5' ]\n",
    "array_list = np.array(object = list_)"
   ]
  },
  {
   "cell_type": "markdown",
   "id": "dcf2c443-04a8-4188-b11a-93e8ad1436f7",
   "metadata": {},
   "source": [
    "Ques1. Is there any difference in the data type of variables list_ and array_list? If there is then write a code\n",
    "to print the data types of both the variables."
   ]
  },
  {
   "cell_type": "markdown",
   "id": "b9dbf235-3722-4091-a26f-c85da4057695",
   "metadata": {},
   "source": [
    "Ans. Yes, there is a difference in the data type of variables list_ and array_list.\n",
    "The variable list_ is a Python list, whereas the variable array_list is a NumPy array.\n"
   ]
  },
  {
   "cell_type": "code",
   "execution_count": 3,
   "id": "58cb7f59-6669-4279-8b11-20ec0963a327",
   "metadata": {},
   "outputs": [
    {
     "name": "stdout",
     "output_type": "stream",
     "text": [
      "The data type of \"list_\" is :-  <class 'list'>\n",
      "The data type of \"array_list\" is :-  <class 'numpy.ndarray'>\n"
     ]
    }
   ],
   "source": [
    "import numpy as np\n",
    "\n",
    "list_ =  [ '1' , '2' , '3' , '4' , '5' ]\n",
    "array_list = np.array(object = list_)\n",
    "\n",
    "print('The data type of \"list_\" is :- ', type(list_))\n",
    "print('The data type of \"array_list\" is :- ', type(array_list))"
   ]
  },
  {
   "cell_type": "markdown",
   "id": "5934237d-3153-48bf-bc45-055eff75aa63",
   "metadata": {},
   "source": [
    "Ques2. Write a code to print the data type of each and every element of both the variables list_ and\n",
    "array_list."
   ]
  },
  {
   "cell_type": "code",
   "execution_count": 7,
   "id": "e553d4d5-fa23-4537-849b-adc1015e7d8f",
   "metadata": {},
   "outputs": [
    {
     "name": "stdout",
     "output_type": "stream",
     "text": [
      "The data type of each and every element in \"list_\"  <class 'str'>\n",
      "The data type of each and every element in \"list_\"  <class 'str'>\n",
      "The data type of each and every element in \"list_\"  <class 'str'>\n",
      "The data type of each and every element in \"list_\"  <class 'str'>\n",
      "The data type of each and every element in \"list_\"  <class 'str'>\n",
      "The data type of each and every element in \"array_list\"  <class 'numpy.str_'>\n",
      "The data type of each and every element in \"array_list\"  <class 'numpy.str_'>\n",
      "The data type of each and every element in \"array_list\"  <class 'numpy.str_'>\n",
      "The data type of each and every element in \"array_list\"  <class 'numpy.str_'>\n",
      "The data type of each and every element in \"array_list\"  <class 'numpy.str_'>\n"
     ]
    }
   ],
   "source": [
    "list_ = ['1' , '2' , '3' , '4' , '5' ]\n",
    "\n",
    "for i in list_ :\n",
    "    print('The data type of each and every element in \"list_\" ' , type(i))\n",
    "    \n",
    "array_list = np.array(object = list_)\n",
    "\n",
    "for i in array_list :\n",
    "    print('The data type of each and every element in \"array_list\" ' , type(i))"
   ]
  },
  {
   "cell_type": "markdown",
   "id": "9c50d4a0-ce29-46ac-8b9e-8a2d0f8df5d6",
   "metadata": {},
   "source": [
    "Q3. Considering the following changes in the variable, array_list:\n",
    "array_list = np.array(object = list_, dtype = int)\n",
    "\n",
    "Will there be any difference in the data type of the elements present in both the variables list_ and\n",
    "array_list? If so then print the data types of each and every element present in both the variables, list_\n",
    "and arra_list."
   ]
  },
  {
   "cell_type": "markdown",
   "id": "d2376714-2e92-4bb8-9d89-2d624b359bd5",
   "metadata": {},
   "source": [
    "Ans.  Yes, there will be a difference in the data type of the elements present in both variables list_ and array_list after making the following change:"
   ]
  },
  {
   "cell_type": "code",
   "execution_count": 13,
   "id": "f4b73c76-bc2c-42a6-bb07-c696eb72b0e2",
   "metadata": {},
   "outputs": [
    {
     "name": "stdout",
     "output_type": "stream",
     "text": [
      "The data type of each and every element in \"list_\"  <class 'str'>\n",
      "The data type of each and every element in \"list_\"  <class 'str'>\n",
      "The data type of each and every element in \"list_\"  <class 'str'>\n",
      "The data type of each and every element in \"list_\"  <class 'str'>\n",
      "The data type of each and every element in \"list_\"  <class 'str'>\n",
      "The data type of each and every element in \"array_list\"  <class 'numpy.int64'>\n",
      "The data type of each and every element in \"array_list\"  <class 'numpy.int64'>\n",
      "The data type of each and every element in \"array_list\"  <class 'numpy.int64'>\n",
      "The data type of each and every element in \"array_list\"  <class 'numpy.int64'>\n",
      "The data type of each and every element in \"array_list\"  <class 'numpy.int64'>\n"
     ]
    }
   ],
   "source": [
    "list_ = ['1' , '2' , '3' , '4' , '5' ]\n",
    "\n",
    "for i in list_ :\n",
    "    print('The data type of each and every element in \"list_\" ' , type(i))\n",
    "    \n",
    "array_list = np.array(object = list_ , dtype = int)\n",
    "\n",
    "for i in array_list :\n",
    "    print('The data type of each and every element in \"array_list\" ' , type(i))"
   ]
  },
  {
   "cell_type": "markdown",
   "id": "0e1437bb-7f46-4a58-ac0c-604bdd42a64c",
   "metadata": {},
   "source": [
    "Consider the below code to answer further questions:\n",
    "import numpy as np\n",
    "num_list = [ [ 1 , 2 , 3 ] , [ 4 , 5 , 6 ] ]\n",
    "num_array = np.array(object = num_list)\n",
    "\n",
    "\n",
    "Ques4. Write a code to find the following characteristics of variable, num_array:\n",
    "(i) shape\n",
    "(ii) size"
   ]
  },
  {
   "cell_type": "code",
   "execution_count": 21,
   "id": "0ed1c360-7406-41c1-8c8b-69784b77ad12",
   "metadata": {},
   "outputs": [
    {
     "name": "stdout",
     "output_type": "stream",
     "text": [
      "[[1 2 3]\n",
      " [4 5 6]]\n",
      "The shape of num_array :  (2, 3)\n",
      "The size of num_array :  6\n"
     ]
    }
   ],
   "source": [
    "import numpy as np\n",
    "\n",
    "num_list = [ [ 1 , 2 , 3 ] , [ 4 , 5 , 6 ] ]\n",
    "num_array = np.array(object = num_list)\n",
    "print(num_array)\n",
    "\n",
    "print('The shape of num_array : ' , np.shape(num_array))\n",
    "\n",
    "print('The size of num_array : ' , np.size(num_array))"
   ]
  },
  {
   "cell_type": "markdown",
   "id": "8d901981-6e69-403b-9d72-485d959c5993",
   "metadata": {},
   "source": [
    "Ques5. Write a code to create numpy array of 3*3 matrix containing zeros only, using a numpy array\n",
    "creation function.\n",
    "[Hint: The size of the array will be 9 and the shape will be (3,3).]"
   ]
  },
  {
   "cell_type": "code",
   "execution_count": 25,
   "id": "387d918a-5904-40fe-9c02-b505b481636a",
   "metadata": {},
   "outputs": [
    {
     "name": "stdout",
     "output_type": "stream",
     "text": [
      "[[0. 0. 0.]\n",
      " [0. 0. 0.]\n",
      " [0. 0. 0.]]\n",
      "The size of matrix is :  9\n"
     ]
    }
   ],
   "source": [
    "import numpy as np\n",
    "\n",
    "ar = np.zeros((3,3))\n",
    "\n",
    "print(ar)\n",
    "\n",
    "print('The size of matrix is : ' , ar.size)"
   ]
  },
  {
   "cell_type": "markdown",
   "id": "11a4b081-e622-4d95-8415-d58efc378183",
   "metadata": {},
   "source": [
    "Ques6. Create an identity matrix of shape (5,5) using numpy functions?\n",
    "[Hint: An identity matrix is a matrix containing 1 diagonally and other elements will be 0.]"
   ]
  },
  {
   "cell_type": "code",
   "execution_count": 27,
   "id": "38911906-4cf3-47ed-8a49-7e437304d984",
   "metadata": {},
   "outputs": [
    {
     "name": "stdout",
     "output_type": "stream",
     "text": [
      "[[1. 0. 0. 0. 0.]\n",
      " [0. 1. 0. 0. 0.]\n",
      " [0. 0. 1. 0. 0.]\n",
      " [0. 0. 0. 1. 0.]\n",
      " [0. 0. 0. 0. 1.]]\n"
     ]
    }
   ],
   "source": [
    "import numpy as np\n",
    "\n",
    "ar1 = np.eye(5,5)\n",
    "\n",
    "print(ar1)"
   ]
  },
  {
   "cell_type": "code",
   "execution_count": null,
   "id": "119974f7-9089-4b7d-aa27-8902a241307a",
   "metadata": {},
   "outputs": [],
   "source": []
  }
 ],
 "metadata": {
  "kernelspec": {
   "display_name": "Python 3 (ipykernel)",
   "language": "python",
   "name": "python3"
  },
  "language_info": {
   "codemirror_mode": {
    "name": "ipython",
    "version": 3
   },
   "file_extension": ".py",
   "mimetype": "text/x-python",
   "name": "python",
   "nbconvert_exporter": "python",
   "pygments_lexer": "ipython3",
   "version": "3.10.8"
  }
 },
 "nbformat": 4,
 "nbformat_minor": 5
}
