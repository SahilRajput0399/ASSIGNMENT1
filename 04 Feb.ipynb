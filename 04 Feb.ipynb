{
 "cells": [
  {
   "cell_type": "markdown",
   "id": "b058669e-693b-4933-b640-ee240e95f183",
   "metadata": {},
   "source": [
    "Ques 1:  Create a python program to sort the given list of tuples based on integer value using a\n",
    "         lambda function.\n",
    "[('Sachin Tendulkar', 34357), ('Ricky Ponting', 27483), ('Jack Kallis', 25534), ('Virat Kohli', 24936)]"
   ]
  },
  {
   "cell_type": "code",
   "execution_count": 2,
   "id": "8c85811d-26c0-434a-97ac-a954a04aa7f7",
   "metadata": {},
   "outputs": [
    {
     "data": {
      "text/plain": [
       "[('Virat Kohli', 24936),\n",
       " ('Jack Kallis', 25534),\n",
       " ('Ricky Ponting', 27483),\n",
       " ('Sachin Tendulkar', 34357)]"
      ]
     },
     "execution_count": 2,
     "metadata": {},
     "output_type": "execute_result"
    }
   ],
   "source": [
    "l1= [('Sachin Tendulkar', 34357), ('Ricky Ponting', 27483), ('Jack Kallis', 25534), ('Virat Kohli', 24936)]\n",
    "\n",
    "sorted(l1, key=lambda x: x[1])\n",
    "\n"
   ]
  },
  {
   "cell_type": "markdown",
   "id": "78869b93-6919-4613-a0f6-5942ce0a1bf6",
   "metadata": {},
   "source": [
    "Ques2 : Write a Python Program to find the squares of all the numbers in the given list of integers using\n",
    "lambda and map functions.\n",
    "[1, 2, 3, 4, 5, 6, 7, 8, 9, 10]"
   ]
  },
  {
   "cell_type": "code",
   "execution_count": 4,
   "id": "9a74d4db-80ae-4f59-abf1-6eb8e3610f75",
   "metadata": {},
   "outputs": [
    {
     "data": {
      "text/plain": [
       "[1, 4, 9, 16, 25, 36, 49, 64, 81, 100]"
      ]
     },
     "execution_count": 4,
     "metadata": {},
     "output_type": "execute_result"
    }
   ],
   "source": [
    "l2=[1,2,3,4,5,6,7,8,9,10]\n",
    "list(map(lambda x : x**2,l2))"
   ]
  },
  {
   "cell_type": "markdown",
   "id": "80e551b8-c176-49cd-9d96-5061ddeef6ac",
   "metadata": {},
   "source": [
    "Ques3: Q3. Write a python program to convert the given list of integers into a tuple of strings. Use map and\n",
    "lambda functions\n",
    "Given String: [1, 2, 3, 4, 5, 6, 7, 8, 9, 10]\n",
    "Expected output: ('1', '2', '3', '4', '5', '6', '7', '8', '9', '10')"
   ]
  },
  {
   "cell_type": "code",
   "execution_count": 11,
   "id": "cc0c692b-2b03-4942-aced-16a361348262",
   "metadata": {},
   "outputs": [
    {
     "data": {
      "text/plain": [
       "('1', '2', '3', '4', '5', '6', '7', '8', '9', '10')"
      ]
     },
     "execution_count": 11,
     "metadata": {},
     "output_type": "execute_result"
    }
   ],
   "source": [
    "l3=[1,2,3,4,5,6,7,8,9,10]\n",
    "tuple(map(lambda x : str(x) , l3))\n"
   ]
  },
  {
   "cell_type": "markdown",
   "id": "f9309a07-884a-4f6f-aad7-1b0b5cbd4407",
   "metadata": {},
   "source": [
    "Ques 5: Write a python program using reduce function to compute the product of a list containing numbers\n",
    "        from 1 to 25."
   ]
  },
  {
   "cell_type": "code",
   "execution_count": 17,
   "id": "6ae2584f-5c65-4aba-af74-f1ba8671a9c7",
   "metadata": {},
   "outputs": [
    {
     "data": {
      "text/plain": [
       "620448401733239439360000"
      ]
     },
     "execution_count": 17,
     "metadata": {},
     "output_type": "execute_result"
    }
   ],
   "source": [
    "num=[i for i in range(1,25)]\n",
    "\n",
    "from functools import reduce \n",
    "\n",
    "reduce(lambda x,y : x*y , num)"
   ]
  },
  {
   "cell_type": "markdown",
   "id": "09e38961-cc3b-4179-919b-dde767ce646e",
   "metadata": {},
   "source": [
    "Ques5:  Write a python program to filter the numbers in a given list that are divisible by 2 and 3 using the\n",
    "        filter function.\n",
    "[2, 3, 6, 9, 27, 60, 90, 120, 55, 46]"
   ]
  },
  {
   "cell_type": "code",
   "execution_count": 18,
   "id": "ea5a345e-8e01-400e-99d5-4f58abe43bbd",
   "metadata": {},
   "outputs": [
    {
     "data": {
      "text/plain": [
       "[6, 60, 120]"
      ]
     },
     "execution_count": 18,
     "metadata": {},
     "output_type": "execute_result"
    }
   ],
   "source": [
    "l4=[2,3,6,9,27,60,120,55,46]\n",
    "list(filter(lambda x : x%2==0 and x % 3 ==0, l4 ))"
   ]
  },
  {
   "cell_type": "markdown",
   "id": "1ef54d80-acc7-4448-9a1d-d8791785b54b",
   "metadata": {},
   "source": [
    "Ques 6:  Write a python program to find palindromes in the given list of strings using lambda and filter\n",
    "         function.\n",
    "['python', 'php', 'aba', 'radar', 'level']"
   ]
  },
  {
   "cell_type": "code",
   "execution_count": 21,
   "id": "99c87846-a6f3-4d6e-82f2-c8bfba8363fc",
   "metadata": {},
   "outputs": [
    {
     "data": {
      "text/plain": [
       "['php', 'aba', 'radar', 'level']"
      ]
     },
     "execution_count": 21,
     "metadata": {},
     "output_type": "execute_result"
    }
   ],
   "source": [
    "l5=['python', 'php', 'aba', 'radar', 'level']\n",
    "list(filter(lambda x : x == x[::-1] , l5))"
   ]
  },
  {
   "cell_type": "code",
   "execution_count": null,
   "id": "9af5bbb1-f0a6-431e-853c-0a72c31f66a8",
   "metadata": {},
   "outputs": [],
   "source": []
  }
 ],
 "metadata": {
  "kernelspec": {
   "display_name": "Python 3 (ipykernel)",
   "language": "python",
   "name": "python3"
  },
  "language_info": {
   "codemirror_mode": {
    "name": "ipython",
    "version": 3
   },
   "file_extension": ".py",
   "mimetype": "text/x-python",
   "name": "python",
   "nbconvert_exporter": "python",
   "pygments_lexer": "ipython3",
   "version": "3.10.8"
  }
 },
 "nbformat": 4,
 "nbformat_minor": 5
}
