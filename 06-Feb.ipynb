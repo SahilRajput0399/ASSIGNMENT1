{
 "cells": [
  {
   "cell_type": "markdown",
   "id": "05fdc94d-ea00-4a87-8bdf-c937687ba204",
   "metadata": {},
   "source": [
    "Ques1:  Create a function which will take a list as an argument and return the product of all the numbers\n",
    "after creating a flat list.\n",
    "Use the below-given list as an argument for your function.\n",
    "list1 = [1,2,3,4, [44,55,66, True], False, (34,56,78,89,34), {1,2,3,3,2,1}, {1:34, \"key2\": [55, 67, 78, 89], 4: (45,\n",
    "22, 61, 34)}, [56, 'data science'], 'Machine Learning']\n",
    "Note: you must extract numeric keys and values of the dictionary also."
   ]
  },
  {
   "cell_type": "code",
   "execution_count": 2,
   "id": "80d4b992-b9b3-4a39-846d-62dd7ad0ad64",
   "metadata": {},
   "outputs": [
    {
     "name": "stdout",
     "output_type": "stream",
     "text": [
      "Flat list :  [1, 2, 3, 4, 44, 55, 66, 34, 56, 78, 89, 34, 1, 2, 3, 1, 4, 34, 55, 67, 78, 89, 45, 22, 61, 34, 56]\n",
      "The Product:  4134711838987085478833841242112000\n"
     ]
    }
   ],
   "source": [
    "l1=  [1,2,3,4, [44,55,66, True], False, (34,56,78,89,34), {1,2,3,3,2,1}, {1:34, \"key2\": [55, 67, 78, 89], 4: (45,\n",
    "22, 61, 34)}, [56, 'data science'], 'Machine Learning']\n",
    "\n",
    "from functools import reduce\n",
    "def my_function(l1) :\n",
    "    flat_list=[]\n",
    "    for i in l1 :\n",
    "        if type(i) == int :\n",
    "            flat_list.append(i)\n",
    "            \n",
    "        elif type(i) == list :\n",
    "            for j in i :\n",
    "                if type(j) == int :\n",
    "                    flat_list.append(j)\n",
    "        elif type(i) == tuple :\n",
    "            for k in i :\n",
    "                if type(k) == int :\n",
    "                    flat_list.append(k)\n",
    "        elif type(i) == set:\n",
    "            for l in i :\n",
    "                if type(l) == int :\n",
    "                    flat_list.append(l)\n",
    "        elif type(i) == dict :\n",
    "            for m in list(i.keys()) :\n",
    "                \n",
    "                if type(m) == int :\n",
    "                    flat_list.append(m)\n",
    "            for n in list(i.values()) :\n",
    "                if type(n) == int :\n",
    "                    flat_list.append(n)\n",
    "                elif type(n) == list :\n",
    "                    for b in n :\n",
    "                        if type(b) == int :\n",
    "                            flat_list.append(b)\n",
    "                elif type(n) == tuple :\n",
    "                        \n",
    "                    for p in n :\n",
    "                        if type(p) == int :\n",
    "                            flat_list.append(p)\n",
    "                            \n",
    "   \n",
    "    print('Flat list : ' , flat_list)\n",
    "    \n",
    "    a=reduce(lambda x,y : x*y , flat_list) \n",
    "    return a\n",
    "\n",
    "print('The Product: ' , my_function(l1))\n",
    "    \n",
    "\n"
   ]
  },
  {
   "cell_type": "markdown",
   "id": "85ae412e-0abe-4f06-8cf2-319f7d5cbcee",
   "metadata": {},
   "source": [
    "Ques2:  Write a python program for encrypting a message sent to you by your friend. The logic of encryption\n",
    "should be such that, for a the output should be z. For b, the output should be y. For c, the output should\n",
    "be x respectively. Also, the whitespace should be replaced with a dollar sign. Keep the punctuation\n",
    "marks unchanged.\n",
    "Input Sentence: I want to become a Data Scientist.\n",
    "Encrypt the above input sentence using the program you just created.\n",
    "Note: Convert the given input sentence into lowercase before encrypting. The final output should be"
   ]
  },
  {
   "cell_type": "code",
   "execution_count": 10,
   "id": "644844f6-1ecb-46ce-b49d-46f199f98b32",
   "metadata": {},
   "outputs": [
    {
     "name": "stdout",
     "output_type": "stream",
     "text": [
      "r$dzmg$gl$yvxlnv$z$wzgz$hxrvmgrhg.\n"
     ]
    }
   ],
   "source": [
    "def encrypt_message(message):\n",
    "    encrypted_message = ''\n",
    "    for char in message:\n",
    "        if char.isalpha():\n",
    "            encrypted_char = chr(122 - (ord(char) - 97))\n",
    "            encrypted_message += encrypted_char\n",
    "        elif char == ' ':\n",
    "            encrypted_message += '$'\n",
    "        else:\n",
    "            encrypted_message += char\n",
    "    return encrypted_message\n",
    "\n",
    "input_sentence = 'I want to become a Data Scientist.'\n",
    "encrypted_sentence = encrypt_message(input_sentence.lower())\n",
    "print(encrypted_sentence)\n"
   ]
  },
  {
   "cell_type": "code",
   "execution_count": null,
   "id": "8fe09231-1508-4524-927f-1612bdf4cd1c",
   "metadata": {},
   "outputs": [],
   "source": []
  }
 ],
 "metadata": {
  "kernelspec": {
   "display_name": "Python 3 (ipykernel)",
   "language": "python",
   "name": "python3"
  },
  "language_info": {
   "codemirror_mode": {
    "name": "ipython",
    "version": 3
   },
   "file_extension": ".py",
   "mimetype": "text/x-python",
   "name": "python",
   "nbconvert_exporter": "python",
   "pygments_lexer": "ipython3",
   "version": "3.10.8"
  }
 },
 "nbformat": 4,
 "nbformat_minor": 5
}
