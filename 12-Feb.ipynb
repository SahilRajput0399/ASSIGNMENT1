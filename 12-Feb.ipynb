{
 "cells": [
  {
   "cell_type": "markdown",
   "id": "14c7ac2a-7adf-4412-9b95-520b9a126fef",
   "metadata": {},
   "source": [
    "Ques1. What is an Exception in python ? Write the difference between Exceptions and syntax errors."
   ]
  },
  {
   "cell_type": "markdown",
   "id": "54267108-56b9-45c0-b102-b52b393f7303",
   "metadata": {},
   "source": [
    "Ans. An exception in Python is an event that occurs during the execution of a program that disrupts the normal flow of instructions. "
   ]
  },
  {
   "cell_type": "code",
   "execution_count": 1,
   "id": "fb966e8f-7bc5-47d6-9ea1-72f9c5411c87",
   "metadata": {},
   "outputs": [
    {
     "name": "stdout",
     "output_type": "stream",
     "text": [
      "this is my first except block [Errno 2] No such file or directory: 'test.txt'\n"
     ]
    }
   ],
   "source": [
    "try:\n",
    "    f=open('test.txt','r')\n",
    "except Exception as e :\n",
    "    print('this is my first except block',e)"
   ]
  },
  {
   "cell_type": "markdown",
   "id": "1c75b965-2604-41ed-ad39-df66fb01d7c4",
   "metadata": {},
   "source": [
    "Syntax errors, on the other hand, occur when the Python interpreter encounters a problem with the syntax of the program itself. Syntax errors are raised before the program is executed, and they indicate that there is a problem with the way the code is written."
   ]
  },
  {
   "cell_type": "markdown",
   "id": "aea2cde1-be36-492d-bc63-b650f4c15bb1",
   "metadata": {},
   "source": [
    "Ques2. What happens when exception is not handled? Expain with examples ."
   ]
  },
  {
   "cell_type": "markdown",
   "id": "2615bae0-cb74-490b-8cf6-0c03f3ac2699",
   "metadata": {},
   "source": [
    "Ans. It will cause the program to terminate abruptly and display message to the user,which can lead to data loss or other consequences.\n",
    "    \n",
    "\n",
    "    \n",
    "              "
   ]
  },
  {
   "cell_type": "code",
   "execution_count": 5,
   "id": "ff0ccd61-e75f-407f-a65a-ef24a1c4c3bc",
   "metadata": {},
   "outputs": [
    {
     "ename": "ZeroDivisionError",
     "evalue": "division by zero",
     "output_type": "error",
     "traceback": [
      "\u001b[0;31m---------------------------------------------------------------------------\u001b[0m",
      "\u001b[0;31mZeroDivisionError\u001b[0m                         Traceback (most recent call last)",
      "Cell \u001b[0;32mIn[5], line 5\u001b[0m\n\u001b[1;32m      3\u001b[0m a\u001b[38;5;241m=\u001b[39m\u001b[38;5;241m10\u001b[39m\n\u001b[1;32m      4\u001b[0m b\u001b[38;5;241m=\u001b[39m\u001b[38;5;241m0\u001b[39m\n\u001b[0;32m----> 5\u001b[0m \u001b[43merror\u001b[49m\u001b[43m(\u001b[49m\u001b[43m)\u001b[49m\n\u001b[1;32m      8\u001b[0m \u001b[38;5;66;03m#ZERO DIVISION ERROR\u001b[39;00m\n",
      "Cell \u001b[0;32mIn[5], line 2\u001b[0m, in \u001b[0;36merror\u001b[0;34m()\u001b[0m\n\u001b[1;32m      1\u001b[0m \u001b[38;5;28;01mdef\u001b[39;00m \u001b[38;5;21merror\u001b[39m():\n\u001b[0;32m----> 2\u001b[0m     \u001b[38;5;28;01mreturn\u001b[39;00m \u001b[43ma\u001b[49m\u001b[38;5;241;43m/\u001b[39;49m\u001b[43mb\u001b[49m\n",
      "\u001b[0;31mZeroDivisionError\u001b[0m: division by zero"
     ]
    }
   ],
   "source": [
    "def error():\n",
    "    return a/b\n",
    "a=10\n",
    "b=0\n",
    "error()\n",
    "\n",
    "    \n",
    "#ZERO DIVISION ERROR"
   ]
  },
  {
   "cell_type": "markdown",
   "id": "7c8ca6bd-9810-442b-b4bb-4d9a48994eb3",
   "metadata": {},
   "source": [
    "Ques3. Which python statements are used to catch and handle exceptions? Explain with an example."
   ]
  },
  {
   "cell_type": "markdown",
   "id": "705745e1-ca38-478d-a775-ea7ce1901758",
   "metadata": {},
   "source": [
    "Ans- In python,'try-except'statements are used to catch and handle exceptions.The 'try' block contains the code that might raise an exception,and the 'except'block contains the code that is executed if an exception is raised.\n",
    "    \n",
    " "
   ]
  },
  {
   "cell_type": "code",
   "execution_count": 6,
   "id": "f38b1056-9017-4f67-8ac3-b13118dc66b2",
   "metadata": {},
   "outputs": [
    {
     "name": "stdout",
     "output_type": "stream",
     "text": [
      "division by zero\n"
     ]
    }
   ],
   "source": [
    "try:\n",
    "    10/0\n",
    "except ZeroDivisionError as e :\n",
    "    print(e)\n",
    "    "
   ]
  },
  {
   "cell_type": "markdown",
   "id": "57730579-7284-4e8c-97fe-633db2ac0347",
   "metadata": {},
   "source": [
    "Ques4. Explain with an Example:\n",
    "    a. try and else\n",
    "    b. finally\n",
    "    c. raise\n",
    "    "
   ]
  },
  {
   "cell_type": "code",
   "execution_count": 9,
   "id": "8070516c-9061-4c5b-972e-be27cf2009a9",
   "metadata": {},
   "outputs": [
    {
     "name": "stdout",
     "output_type": "stream",
     "text": [
      "cannot divide by zero\n",
      "This block always executes\n"
     ]
    }
   ],
   "source": [
    "try:\n",
    "    x = 10/0\n",
    "except ZeroDivisionError as e:\n",
    "    print(\"cannot divide by zero\")\n",
    "\n",
    "else:\n",
    "    print(\"Division Successful\")\n",
    "    \n",
    "finally:\n",
    "    print(\"This block always executes\")"
   ]
  },
  {
   "cell_type": "markdown",
   "id": "44038c46-29b0-419e-870f-7c6d25b97e65",
   "metadata": {},
   "source": [
    "In this example,the 'try' block attempts to divide the number 10 by zero,which raises a 'ZeroDivisionError' exception.The 'except'block catches the exception and prints a message indicating that division by zero is not allowed.\n",
    "\n",
    "Since the exception was caught and handled by the'except'block,the code in the 'else'block is executed,which prints a message indicating that the division was successful. Once the try block will execute successfully only then ELSE block will execute\n",
    "\n",
    "'finally' block is executed,which always runs ragardless of whether an exception was raised or not.In this example,the 'finally' block raises a new ex"
   ]
  },
  {
   "cell_type": "markdown",
   "id": "73192e6b-9f22-4732-9f94-6fd468941c3e",
   "metadata": {},
   "source": [
    "Ques5.What are custom Exception in python? Why do need custom Exceptions?Explain with an example.\n"
   ]
  },
  {
   "cell_type": "markdown",
   "id": "d8fc7b6f-b691-4eae-9ce1-41e125c73ebb",
   "metadata": {},
   "source": [
    "Ans. In python,custom exceptions are user-defined exceptions that allow you to create and raise your own exceptions in your code.They are usefulwhen you want to create a specific exception for a particular situation that is not covered by the built-in exceptions. We need custom exceptions to add more meaning and context to the exception raised by our code.By creating custom exceptions,we can provide more specific and informative error messages that can help with debugging and troubleshooting our code.\n",
    "\n",
    "Here is an example of how to create and use a costum exception in python:\n",
    "\n"
   ]
  },
  {
   "cell_type": "code",
   "execution_count": 10,
   "id": "1721528c-4861-4618-b846-0fda281ba017",
   "metadata": {},
   "outputs": [
    {
     "name": "stdout",
     "output_type": "stream",
     "text": [
      "Cannot divide by zero\n"
     ]
    }
   ],
   "source": [
    "class CustomException(Exception):\n",
    "    pass\n",
    "\n",
    "def divide(a, b): \n",
    "    if b == 0: \n",
    "        raise CustomException(\"Cannot divide by zero\") \n",
    "        return a / b\n",
    "\n",
    "try: \n",
    "    result = divide(10, 0) \n",
    "except CustomException as e: \n",
    "    print(e)"
   ]
  },
  {
   "cell_type": "markdown",
   "id": "bf13d05c-026f-402c-9d71-de19e5ce8a51",
   "metadata": {},
   "source": [
    "Ques6.Create a custom exception class.Use this class to handle an exception."
   ]
  },
  {
   "cell_type": "code",
   "execution_count": 11,
   "id": "5576c32d-5071-4cd5-8e8e-0b05dd519f23",
   "metadata": {},
   "outputs": [
    {
     "name": "stdin",
     "output_type": "stream",
     "text": [
      "enter age -56\n"
     ]
    },
    {
     "name": "stdout",
     "output_type": "stream",
     "text": [
      "age entered is negative\n"
     ]
    }
   ],
   "source": [
    "class validateage(Exception) :\n",
    "    def __init__(self,msg) :\n",
    "        self.msg = msg\n",
    "def valid(age) :\n",
    "    if age < 0 :\n",
    "        raise validateage('age entered is negative')\n",
    "    elif age > 200 :\n",
    "        raise validateage('age is very high')\n",
    "    else :\n",
    "        print('age is valid')  \n",
    "try :\n",
    "    age = int(input('enter age'))\n",
    "    valid(age)   \n",
    "except validateage as e:\n",
    "    print(e)        \n",
    "        \n",
    "        "
   ]
  },
  {
   "cell_type": "code",
   "execution_count": null,
   "id": "e462c4ca-d1e6-4c66-b333-274d445829a6",
   "metadata": {},
   "outputs": [],
   "source": []
  }
 ],
 "metadata": {
  "kernelspec": {
   "display_name": "Python 3 (ipykernel)",
   "language": "python",
   "name": "python3"
  },
  "language_info": {
   "codemirror_mode": {
    "name": "ipython",
    "version": 3
   },
   "file_extension": ".py",
   "mimetype": "text/x-python",
   "name": "python",
   "nbconvert_exporter": "python",
   "pygments_lexer": "ipython3",
   "version": "3.10.8"
  }
 },
 "nbformat": 4,
 "nbformat_minor": 5
}
