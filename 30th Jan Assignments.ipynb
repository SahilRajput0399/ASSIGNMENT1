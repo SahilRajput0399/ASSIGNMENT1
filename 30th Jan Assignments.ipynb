{
 "cells": [
  {
   "cell_type": "code",
   "execution_count": null,
   "id": "1ce74311-27dd-4103-89de-1e42b9c16bf4",
   "metadata": {},
   "outputs": [
    {
     "name": "stdin",
     "output_type": "stream",
     "text": [
      "Enter your marks:-   27.5\n"
     ]
    },
    {
     "name": "stdout",
     "output_type": "stream",
     "text": [
      "Your grade is D\n"
     ]
    }
   ],
   "source": [
    "#QUESTION 1\n",
    "\n",
    "marks=float(input(\"Enter your marks:-  \"))\n",
    "if marks > 90 :\n",
    "          print(\"Your grade is A\")\n",
    "elif marks > 80 and marks <= 90 :\n",
    "          print(\"Your grade is B\")\n",
    "elif marks >= 60 and marks <= 80 :\n",
    "          print(\"Your grade is C\")\n",
    "else :\n",
    "          print(\"Your grade is D\")\n",
    "          \n",
    "          "
   ]
  },
  {
   "cell_type": "code",
   "execution_count": 14,
   "id": "c79d1d1e-4368-4bcd-b3d7-4e9dfc2c1a28",
   "metadata": {},
   "outputs": [
    {
     "name": "stdin",
     "output_type": "stream",
     "text": [
      "Enter your bike cost price-   390000\n"
     ]
    },
    {
     "name": "stdout",
     "output_type": "stream",
     "text": [
      "Tax is 15%\n"
     ]
    }
   ],
   "source": [
    "#QUESTION 2\n",
    "\n",
    "Cost_Price=int(input(\"Enter your bike cost price-  \"))\n",
    "if Cost_Price > 100000 :\n",
    "               print(\"Tax is 15%\")\n",
    "elif Cost_Price > 50000 and Cost_Price <= 100000 :\n",
    "               print(\"Tax is 10%\")\n",
    "else :\n",
    "               print(\"Tax is 5%\")\n",
    "               \n",
    "                     "
   ]
  },
  {
   "cell_type": "code",
   "execution_count": 15,
   "id": "2280ea82-fd8e-4a3f-a00f-2372fbdc0484",
   "metadata": {},
   "outputs": [
    {
     "name": "stdin",
     "output_type": "stream",
     "text": [
      "Enter your City\n",
      "(in capital):-   DELHI\n"
     ]
    },
    {
     "name": "stdout",
     "output_type": "stream",
     "text": [
      "The famous monument in Delhi is Red Fort\n"
     ]
    }
   ],
   "source": [
    "#QUESTION 3\n",
    "\n",
    "city = input(\"Enter your City\\n(in capital):-  \")\n",
    "if city == \"DELHI\" :\n",
    "    print(\"The famous monument in Delhi is Red Fort\")\n",
    "elif city == \"AGRA\" :\n",
    "    print(\"The famous monument in Agra is Taj Mahal\")\n",
    "elif city == \"JAIPUR\" :\n",
    "    print(\"The famous monument in Jaipur is Jal Mahal\")\n",
    "else :\n",
    "    print(\"Invalid\")\n",
    "    \n",
    "    "
   ]
  },
  {
   "cell_type": "code",
   "execution_count": 5,
   "id": "3ca32477-93e0-4dd7-a2c9-7c1b3a84d093",
   "metadata": {},
   "outputs": [
    {
     "name": "stdin",
     "output_type": "stream",
     "text": [
      "Enter a number =  1\n"
     ]
    },
    {
     "name": "stdout",
     "output_type": "stream",
     "text": [
      "Number of Times= 0\n"
     ]
    }
   ],
   "source": [
    "#QUESTION 4\n",
    "\n",
    "num = int(input(\"Enter a number = \"))\n",
    "count = 0\n",
    "while num > 10 :\n",
    "    num = num / 3\n",
    "    count = count + 1\n",
    "print('Number of Times=', count)\n"
   ]
  },
  {
   "cell_type": "markdown",
   "id": "cee1b19e-d27c-4ccd-b08e-018edf76d7f1",
   "metadata": {},
   "source": [
    "#QUESTION 5\n",
    "\n",
    "A while loop in Python is used to repeatedly execute a block of code as long as a given condition is true. It continues to execute the code until the condition becomes false."
   ]
  },
  {
   "cell_type": "code",
   "execution_count": 7,
   "id": "31926351-e0d7-4eff-a4a9-f4dfbd3c9683",
   "metadata": {},
   "outputs": [
    {
     "name": "stdout",
     "output_type": "stream",
     "text": [
      "0\n",
      "1\n",
      "2\n",
      "3\n",
      "4\n",
      "5\n",
      "6\n",
      "7\n",
      "8\n",
      "9\n",
      "10\n"
     ]
    }
   ],
   "source": [
    "# while-loop with condition\n",
    "count = 0\n",
    "while count <= 10 :\n",
    "    print(count)\n",
    "    count = count + 1"
   ]
  },
  {
   "cell_type": "code",
   "execution_count": 9,
   "id": "4714bbfa-0ceb-4e6c-8850-f6678c5bf217",
   "metadata": {},
   "outputs": [
    {
     "name": "stdout",
     "output_type": "stream",
     "text": [
      "First pattern\n",
      "* \n",
      "* * \n",
      "* * * \n",
      "* * * * \n",
      "* * * * * \n"
     ]
    }
   ],
   "source": [
    "# Question 6\n",
    "\n",
    "n=5\n",
    "print('First Pattern')\n",
    "i=0\n",
    "while i<n:\n",
    "    j=0\n",
    "    while j<=i:\n",
    "        print('*',end=' ')\n",
    "        j+=1\n",
    "    i+=1\n",
    "    print()\n",
    "    "
   ]
  },
  {
   "cell_type": "code",
   "execution_count": 11,
   "id": "9c46d3ea-d6bc-409e-8fbc-33296983b40a",
   "metadata": {},
   "outputs": [
    {
     "name": "stdout",
     "output_type": "stream",
     "text": [
      "Second Pattern\n",
      "* * * * * \n",
      "* * * * \n",
      "* * * \n",
      "* * \n",
      "* \n"
     ]
    }
   ],
   "source": [
    "print('Second Pattern')\n",
    "\n",
    "i = 1\n",
    "while i <= n :\n",
    "    j = n\n",
    "    while j >= i:\n",
    "        print(\"*\", end = \" \")\n",
    "        j -= 1\n",
    "    print()\n",
    "    i += 1"
   ]
  },
  {
   "cell_type": "code",
   "execution_count": 13,
   "id": "251c9a61-f85a-48b6-820b-04882facbbb3",
   "metadata": {},
   "outputs": [
    {
     "name": "stdout",
     "output_type": "stream",
     "text": [
      "Third Pattern\n",
      "     * \n",
      "    * * \n",
      "   * * * \n",
      "  * * * * \n",
      " * * * * * \n"
     ]
    }
   ],
   "source": [
    "print('Third Pattern')\n",
    "i=0\n",
    "while i<n:\n",
    "    c=n-1\n",
    "    while c >= i :\n",
    "        print(end=' ')\n",
    "        c = c - 1\n",
    "    j=0\n",
    "    while j<=i:\n",
    "        print('*',end=' ')\n",
    "        j+=1\n",
    "    i+=1\n",
    "    print()\n"
   ]
  },
  {
   "cell_type": "code",
   "execution_count": 14,
   "id": "c1f50bb2-4793-4625-9eaa-eca686afa2d5",
   "metadata": {},
   "outputs": [
    {
     "name": "stdout",
     "output_type": "stream",
     "text": [
      "10\n",
      "9\n",
      "8\n",
      "7\n",
      "6\n",
      "5\n",
      "4\n",
      "3\n",
      "2\n",
      "1\n"
     ]
    }
   ],
   "source": [
    "# Question 7\n",
    "\n",
    "num = 10\n",
    "while num > 0 :\n",
    "    print(num)\n",
    "    num-=1"
   ]
  },
  {
   "cell_type": "code",
   "execution_count": 15,
   "id": "66ce5442-6d84-4d42-83d3-5c6f65b92730",
   "metadata": {},
   "outputs": [
    {
     "name": "stdout",
     "output_type": "stream",
     "text": [
      "10\n",
      "9\n",
      "8\n",
      "7\n",
      "6\n",
      "5\n",
      "4\n",
      "3\n",
      "2\n",
      "1\n"
     ]
    }
   ],
   "source": [
    "# Question 8\n",
    "\n",
    "\n",
    "num = 10\n",
    "while num > 0 :\n",
    "    print(num)\n",
    "    num = num - 1"
   ]
  },
  {
   "cell_type": "code",
   "execution_count": null,
   "id": "bd99b392-6ad9-4039-b6d9-5581a330b062",
   "metadata": {},
   "outputs": [],
   "source": []
  }
 ],
 "metadata": {
  "kernelspec": {
   "display_name": "Python 3 (ipykernel)",
   "language": "python",
   "name": "python3"
  },
  "language_info": {
   "codemirror_mode": {
    "name": "ipython",
    "version": 3
   },
   "file_extension": ".py",
   "mimetype": "text/x-python",
   "name": "python",
   "nbconvert_exporter": "python",
   "pygments_lexer": "ipython3",
   "version": "3.10.8"
  }
 },
 "nbformat": 4,
 "nbformat_minor": 5
}
