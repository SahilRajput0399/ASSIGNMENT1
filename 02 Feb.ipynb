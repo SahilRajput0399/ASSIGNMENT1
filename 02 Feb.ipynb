{
 "cells": [
  {
   "cell_type": "markdown",
   "id": "07db35c3-1a70-48f7-891c-6a5d5f3f0998",
   "metadata": {},
   "source": [
    "Ques1: Explain with an example each when to use a for loop and a while loop.\n"
   ]
  },
  {
   "cell_type": "markdown",
   "id": "7fc51046-a6c8-4e7a-a331-a8b17abd98dd",
   "metadata": {},
   "source": [
    "For-loop is used for iterating over an iterable like String, Tuple, List, Set or Dictionary."
   ]
  },
  {
   "cell_type": "code",
   "execution_count": 2,
   "id": "0286fb30-dbb6-483d-a90d-14d986bfaa42",
   "metadata": {},
   "outputs": [
    {
     "name": "stdout",
     "output_type": "stream",
     "text": [
      "1\n",
      "2\n",
      "3\n",
      "4\n",
      "5\n"
     ]
    }
   ],
   "source": [
    "#for-loop \n",
    "l=[1,2,3,4,5]\n",
    "for i in l :\n",
    "    print(i)"
   ]
  },
  {
   "cell_type": "markdown",
   "id": "87bb8e20-cd20-4a8c-87b0-a68b43ac44a5",
   "metadata": {},
   "source": [
    "While Loop is used to execute a block of statements repeatedly until a given condition is satisfied. And when the condition becomes false, the line immediately after the loop in the program is executed."
   ]
  },
  {
   "cell_type": "code",
   "execution_count": 3,
   "id": "3da98a64-e34c-4d62-88fc-d48ef498c694",
   "metadata": {},
   "outputs": [
    {
     "name": "stdout",
     "output_type": "stream",
     "text": [
      "10\n",
      "9\n",
      "8\n",
      "7\n",
      "6\n",
      "5\n",
      "4\n",
      "3\n",
      "2\n",
      "1\n"
     ]
    }
   ],
   "source": [
    "#While-loop\n",
    "\n",
    "a = 10\n",
    "while a >= 1 :\n",
    "    print(a)\n",
    "    a = a - 1"
   ]
  },
  {
   "cell_type": "markdown",
   "id": "a7c7208a-7175-4e6b-aa8c-1ae21fc0d604",
   "metadata": {},
   "source": [
    "Ques2: Write a python program to print the sum and product of the first 10 natural numbers using for\n",
    "and while loop."
   ]
  },
  {
   "cell_type": "code",
   "execution_count": 6,
   "id": "3392a320-7794-4a37-9330-fd49ca828d7c",
   "metadata": {},
   "outputs": [
    {
     "name": "stdout",
     "output_type": "stream",
     "text": [
      "55\n",
      "3628800\n"
     ]
    }
   ],
   "source": [
    "#for-loop\n",
    "\n",
    "sum=0\n",
    "pro=1\n",
    "for i in range(1,11):\n",
    "    sum+=i\n",
    "    pro=pro*i\n",
    "print(sum)\n",
    "print(pro)"
   ]
  },
  {
   "cell_type": "code",
   "execution_count": 8,
   "id": "2354c856-67b2-44b5-aa75-ca78db0bdea1",
   "metadata": {},
   "outputs": [
    {
     "name": "stdout",
     "output_type": "stream",
     "text": [
      "55\n",
      "3628800\n"
     ]
    }
   ],
   "source": [
    "#While-loop\n",
    "\n",
    "sum=0\n",
    "pro=1\n",
    "i=1\n",
    "while i<=10:\n",
    "    sum=sum+i\n",
    "    pro=pro*i\n",
    "    i=i+1\n",
    "print(sum)\n",
    "print(pro)\n",
    "    "
   ]
  },
  {
   "cell_type": "markdown",
   "id": "98ba26a2-5853-4645-b5b0-36de2a6e5fe1",
   "metadata": {},
   "source": [
    "Ques 3: Create a python program to compute the electricity bill for a household.\n",
    "\n",
    "The per-unit charges in rupees are as follows: For the first 100 units, the user will be charged Rs. 4.5 per\n",
    "unit, for the next 100 units, the user will be charged Rs. 6 per unit, and for the next 100 units, the user will\n",
    "be charged Rs. 10 per unit, After 300 units and above the user will be charged Rs. 20 per unit."
   ]
  },
  {
   "cell_type": "code",
   "execution_count": 9,
   "id": "e4de88a0-a321-4df2-8380-925488dc89bc",
   "metadata": {},
   "outputs": [
    {
     "name": "stdin",
     "output_type": "stream",
     "text": [
      "Enter the number of units:  310\n"
     ]
    },
    {
     "name": "stdout",
     "output_type": "stream",
     "text": [
      "Total electricity bill : Rs.  2250.0\n"
     ]
    }
   ],
   "source": [
    "units = int(input(\"Enter the number of units: \"))\n",
    "\n",
    "if units <= 100 :\n",
    "    bill = units * 4.5\n",
    "elif units <= 200 :\n",
    "    bill = (100 * 4.5) + ((units - 100) * 6)\n",
    "elif units <= 300 :\n",
    "    bill = (100 * 4.5) + (100 * 6) + ((units - 200) * 10)\n",
    "else :\n",
    "    bill = (100 * 4.5) + (100 * 6) + (100 * 10) + ((units - 300) * 20)\n",
    "\n",
    "print(\"Total electricity bill : Rs. \", bill)"
   ]
  },
  {
   "cell_type": "markdown",
   "id": "c22b828b-4a2d-413e-b661-0c53307db742",
   "metadata": {},
   "source": [
    "Ques4: Create a list of numbers from 1 to 100. Use for loop and while loop to calculate the cube of each\n",
    "number and if the cube of that number is divisible by 4 or 5 then append that number in a list and print\n",
    "that list."
   ]
  },
  {
   "cell_type": "code",
   "execution_count": 10,
   "id": "347edfd9-b061-4b16-b49c-f3d1163b3b5b",
   "metadata": {},
   "outputs": [
    {
     "name": "stdout",
     "output_type": "stream",
     "text": [
      "[12, 15, 24, 30, 36, 45, 48, 60, 72, 75, 84, 90, 96, 105, 108, 120, 132, 135, 144, 150, 156, 165, 168, 180, 192, 195, 204, 210, 216, 225, 228, 240, 252, 255, 264, 270, 276, 285, 288, 300]\n"
     ]
    }
   ],
   "source": [
    "#for-loop\n",
    "\n",
    "l1=[]\n",
    "for i in range(1,101):\n",
    "    cube=(3*i)\n",
    "    if(cube%4==0 or cube%5 == 0):\n",
    "        l1.append(cube)\n",
    "print(l1) "
   ]
  },
  {
   "cell_type": "code",
   "execution_count": 11,
   "id": "5b8699ca-bc4a-45f4-aa30-0b27320b7d4a",
   "metadata": {},
   "outputs": [
    {
     "name": "stdout",
     "output_type": "stream",
     "text": [
      "[12, 15, 24, 30, 36, 45, 48, 60, 72, 75, 84, 90, 96, 105, 108, 120, 132, 135, 144, 150, 156, 165, 168, 180, 192, 195, 204, 210, 216, 225, 228, 240, 252, 255, 264, 270, 276, 285, 288, 300]\n"
     ]
    }
   ],
   "source": [
    "#While-loop\n",
    "\n",
    "l1=[]\n",
    "i=1\n",
    "while i<=100:\n",
    "    cube=3*i\n",
    "    i=i+1\n",
    "    if(cube%4==0 or cube%5==0):\n",
    "        l1.append(cube)\n",
    "print(l1)        "
   ]
  },
  {
   "cell_type": "markdown",
   "id": "282768c0-c022-4f52-8db0-be8a59b80939",
   "metadata": {},
   "source": [
    "Ques5: Write a program to filter count vowels in the below-given string.\n",
    "       string = \"I want to become a data scientist\""
   ]
  },
  {
   "cell_type": "code",
   "execution_count": 13,
   "id": "d20dd19f-7459-4079-9289-e2609d1d9f64",
   "metadata": {},
   "outputs": [
    {
     "name": "stdin",
     "output_type": "stream",
     "text": [
      "enter string:  I want to become a data scientist\n"
     ]
    },
    {
     "data": {
      "text/plain": [
       "12"
      ]
     },
     "execution_count": 13,
     "metadata": {},
     "output_type": "execute_result"
    }
   ],
   "source": [
    "count=0\n",
    "vowel='aAeEiIOoUu'\n",
    "c=input('enter string: ')\n",
    "for i in c:\n",
    "    if i in vowel:\n",
    "        count+=1\n",
    "        \n",
    "count        \n",
    "        "
   ]
  },
  {
   "cell_type": "code",
   "execution_count": null,
   "id": "1d468167-baec-4901-9742-0372f5437c14",
   "metadata": {},
   "outputs": [],
   "source": []
  }
 ],
 "metadata": {
  "kernelspec": {
   "display_name": "Python 3 (ipykernel)",
   "language": "python",
   "name": "python3"
  },
  "language_info": {
   "codemirror_mode": {
    "name": "ipython",
    "version": 3
   },
   "file_extension": ".py",
   "mimetype": "text/x-python",
   "name": "python",
   "nbconvert_exporter": "python",
   "pygments_lexer": "ipython3",
   "version": "3.10.8"
  }
 },
 "nbformat": 4,
 "nbformat_minor": 5
}
