{
 "cells": [
  {
   "cell_type": "markdown",
   "id": "02b77d77-3f9c-4133-a9da-249aaa67a42f",
   "metadata": {},
   "source": [
    "Ques1.What is an API? Give an example, where an API is used in real life."
   ]
  },
  {
   "cell_type": "markdown",
   "id": "8f056fa0-0f43-40f6-aa85-945852e5a64e",
   "metadata": {},
   "source": [
    "Ans. An API, or Application Programming Interface, is a set of protocols, routines, and tools for building software applications. APIs allow software applications to communicate with each other and exchange information, such as data, functions, and services.\n",
    "     \n",
    "An example-An API in real life is the Google Maps API. The Google Maps API provides a way for developers to embed Google Maps into their own applications and websites."
   ]
  },
  {
   "cell_type": "markdown",
   "id": "bef699a8-330e-48d8-89a2-7d5db81b023d",
   "metadata": {},
   "source": [
    "Ques2.Give advantages and disadvantages of using API."
   ]
  },
  {
   "cell_type": "markdown",
   "id": "936746bb-7ee8-49ab-98e8-cc640d5986c8",
   "metadata": {},
   "source": [
    "Ans. Advantages of using API:\n",
    "\n",
    "1.Reusability: APIs provide a reusable interface to software functions or services, which can be used across different applications and platforms.\n",
    "\n",
    "2.Flexibility: APIs provide a flexible way to integrate different software applications, making it easier to create custom workflows and processes.\n",
    "\n",
    "3.Scalability: APIs can handle large amounts of data and traffic, making them ideal for use in large-scale systems and applications."
   ]
  },
  {
   "cell_type": "markdown",
   "id": "9592c9e4-b57e-4952-a961-89ac30857ec9",
   "metadata": {},
   "source": [
    "Disadvantages of using API:\n",
    "\n",
    "1.Security risks: APIs can be a security risk if they are not designed and implemented properly. They can provide unauthorized access to sensitive data or functions, which can be exploited by hackers.\n",
    "\n",
    "2.Complexity: APIs can be complex to design and implement, especially when integrating with legacy systems or non-standard interfaces.\n",
    "\n",
    "4.Maintenance and support: APIs require ongoing maintenance and support, which can be time-consuming and expensive.\n"
   ]
  },
  {
   "cell_type": "markdown",
   "id": "4645ae40-3f8a-4b96-8bee-185ae93014ff",
   "metadata": {},
   "source": [
    "Ques3. What is a Web API? Differentiate between API and Web API."
   ]
  },
  {
   "cell_type": "markdown",
   "id": "1985fd33-1d73-4e32-9d8c-621adf52310a",
   "metadata": {},
   "source": [
    "Ans. A Web API, also known as a Web Service, is an API that is accessed over the HTTP protocol and allows different software systems to communicate with each other over the internet. It uses the standard HTTP request methods like GET, POST, PUT, and DELETE to make requests and receive responses in a predefined format such as JSON or XML.\n",
    "\n",
    "API, on the other hand, is a more general term that refers to any interface that allows different software systems to communicate with each other. While"
   ]
  },
  {
   "cell_type": "markdown",
   "id": "465ec37b-428b-44ff-97b7-2ec729e87a4f",
   "metadata": {},
   "source": [
    "Ques4. Explain REST and SOAP Architecture. Mention shortcomings of SOAP."
   ]
  },
  {
   "cell_type": "markdown",
   "id": "62d64afd-efb6-4b9d-a9e7-2b7efd771497",
   "metadata": {},
   "source": [
    "Ans. REST (Representational State Transfer) and SOAP (Simple Object Access Protocol) are two widely used architectural styles for building web services.\n",
    "\n",
    "REST is a lightweight and flexible architectural style that relies on a set of principles and constraints for creating web services. \n",
    "SOAP is a more complex and rigid architectural style that relies on XML-based messaging protocols for exchanging data between applications. SOAP is typically used in enterprise-level applications and web services that require advanced security features and transactional capabilities.\n",
    "\n",
    "The shortcomings of SOAP architecture include its complexity, verbosity, and overhead."
   ]
  },
  {
   "cell_type": "markdown",
   "id": "fdbe52bb-52b5-4dd4-9e02-470a4ca7afa5",
   "metadata": {},
   "source": [
    "Ques5.Differentiate between REST and SOAP."
   ]
  },
  {
   "cell_type": "markdown",
   "id": "6cd3936b-770b-4b67-9e12-8801328c2c05",
   "metadata": {},
   "source": [
    "Ans. Architecture style: REST (Representational State Transfer) is a software architecture style that uses a client-server model, while SOAP (Simple Object Access Protocol) is a protocol for exchanging information between web services.\n",
    "\n",
    "2.Data format: REST uses lightweight data formats like JSON (JavaScript Object Notation) or XML (Extensible Markup Language) for data exchange, while SOAP uses XML exclusively.\n",
    "\n",
    "3.URL structure: REST has a more intuitive and user-friendly URL structure that maps to resources, while SOAP uses a more complex and rigid URL structure.\n",
    "\n",
    "4.State management: REST is stateless, meaning it doesn't require any client context to be stored on the server. SOAP, on the other hand, is stateful and requires that the server retains some information about each client.\n",
    "\n",
    "5.Performance: REST is generally faster and more efficient than SOAP because it uses a smaller message size and has less overhead.\n",
    "\n",
    "6.Security: SOAP has built-in security features, while REST relies on transport-level security like SSL (Secure Sockets Layer) for secure communication.\n",
    "\n",
    "Overall, REST is simpler and more flexible than SOAP, making it a popular choice for building web services."
   ]
  }
 ],
 "metadata": {
  "kernelspec": {
   "display_name": "Python 3 (ipykernel)",
   "language": "python",
   "name": "python3"
  },
  "language_info": {
   "codemirror_mode": {
    "name": "ipython",
    "version": 3
   },
   "file_extension": ".py",
   "mimetype": "text/x-python",
   "name": "python",
   "nbconvert_exporter": "python",
   "pygments_lexer": "ipython3",
   "version": "3.10.8"
  }
 },
 "nbformat": 4,
 "nbformat_minor": 5
}
