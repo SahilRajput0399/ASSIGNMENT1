{
 "cells": [
  {
   "cell_type": "markdown",
   "id": "6cc68b2f-0b16-4e06-8d31-a0b8151324e3",
   "metadata": {},
   "source": [
    "Ques1: Explain Class and Object with respect to Object-Oriented Programming. Give a suitable example."
   ]
  },
  {
   "cell_type": "raw",
   "id": "e7ef5647-8d11-4764-a08f-650ca5740598",
   "metadata": {},
   "source": [
    "Ans: A class is a user-defined blueprint from which objects are created.\n",
    "     \n",
    "     Object is instance of a class. It has both state and behaviour."
   ]
  },
  {
   "cell_type": "code",
   "execution_count": 3,
   "id": "6becbd5e-db8a-49d9-8c07-18ebeb29d097",
   "metadata": {},
   "outputs": [],
   "source": [
    "class OOPS :\n",
    "    \n",
    "    def test1() :\n",
    "        \n",
    "        print('welcome to thi island')"
   ]
  },
  {
   "cell_type": "code",
   "execution_count": 4,
   "id": "9292e87c-4249-4fc8-8a36-c2747083a540",
   "metadata": {},
   "outputs": [],
   "source": [
    "hello=OOPS()#hello is the object of the class OOPS"
   ]
  },
  {
   "cell_type": "markdown",
   "id": "c5cfcc67-6be2-41cc-a682-1f4c5fbdbf7f",
   "metadata": {},
   "source": [
    "Ques2 :Name the four pillars of OOPs.\n",
    "\n",
    "Ans : 1.Abstraction\n",
    "      2.Encapsulation\n",
    "      3.Inheritance\n",
    "      4.Polymorphism"
   ]
  },
  {
   "cell_type": "raw",
   "id": "4e1dc38e-4949-4b86-ac25-29e5c0463af1",
   "metadata": {},
   "source": [
    "Ques3: Explain why the __init__() function is used. Give a suitable example."
   ]
  },
  {
   "cell_type": "markdown",
   "id": "08439f2e-da91-49ce-964a-f57109a33db4",
   "metadata": {},
   "source": [
    "Ans : This method is used to initialize the attributes of the class and set their default values.\n",
    "       Self parameter is a reference to the instance of the object being created."
   ]
  },
  {
   "cell_type": "code",
   "execution_count": 6,
   "id": "b22ae7f0-0554-4cd4-9fd9-c30022d7d1e4",
   "metadata": {},
   "outputs": [],
   "source": [
    "class home :\n",
    "    def __init__(self,add) :\n",
    "        self.add=add"
   ]
  },
  {
   "cell_type": "code",
   "execution_count": 7,
   "id": "3c855bcf-e455-49c8-88b1-44f1150218f0",
   "metadata": {},
   "outputs": [],
   "source": [
    "ghar = home('shahdar')"
   ]
  },
  {
   "cell_type": "code",
   "execution_count": 8,
   "id": "3350c599-e73f-4f48-8e94-9bbbd90d563d",
   "metadata": {},
   "outputs": [
    {
     "data": {
      "text/plain": [
       "'shahdar'"
      ]
     },
     "execution_count": 8,
     "metadata": {},
     "output_type": "execute_result"
    }
   ],
   "source": [
    "ghar.add"
   ]
  },
  {
   "cell_type": "markdown",
   "id": "ef918825-f452-4204-9eec-28efa1c8417e",
   "metadata": {},
   "source": [
    "Ques4:  Why self is used in OOPs?"
   ]
  },
  {
   "cell_type": "markdown",
   "id": "19d9af3b-6943-4469-8eb5-3dbbe0247b12",
   "metadata": {},
   "source": [
    "Ans : In OOP, the 'self' keyword is used to refer to the instance of an object.\n",
    "      It is used to access the attributes and methods of the class from within the class definition.\n",
    "        "
   ]
  },
  {
   "cell_type": "markdown",
   "id": "cb3caa1a-5c36-422c-9e10-58886a47e599",
   "metadata": {},
   "source": [
    "Ques5: What is inheritance? Give an example for each type of inheritance."
   ]
  },
  {
   "cell_type": "raw",
   "id": "64768235-c74d-45a1-8478-c04aa3f7663a",
   "metadata": {},
   "source": [
    "Ans:  Inheritance is a mechanism in OOP that allows creating a new class(child class) based on an existing class(parent\n",
    "      Inheritance provides a way to reuse code and allows creating new classes that are related to existing classes. This           makes easier maintain and extend the code and reduces the amount of redundant code.\n",
    "\n",
    "      Their are 4 types of inheritance:\n",
    "      1.Single Inheritance: Single inheritance enables a derived class to inherit properties from a single parent class.\n",
    "      \n",
    "      "
   ]
  },
  {
   "cell_type": "code",
   "execution_count": 10,
   "id": "1e1339be-771b-4cc5-91bc-c9fd6db264e9",
   "metadata": {},
   "outputs": [
    {
     "name": "stdout",
     "output_type": "stream",
     "text": [
      "This function is in parent class.\n",
      "This function is in child class.\n"
     ]
    }
   ],
   "source": [
    "class test1:\n",
    "    def func1(self):\n",
    "        print(\"This function is in parent class.\")\n",
    " \n",
    "class test2(test1) :\n",
    "    \n",
    "    def func2(self):\n",
    "        print(\"This function is in child class.\")\n",
    " \n",
    "object = test2()\n",
    "object.func1()\n",
    "object.func2()\n",
    "        "
   ]
  },
  {
   "cell_type": "markdown",
   "id": "7801669d-87bc-475d-9d97-cf4c0a7d7029",
   "metadata": {},
   "source": [
    "2.Multiple Inheritance: When a class can be derived from more than one base class this type of inheritance is called multiple inheritances. "
   ]
  },
  {
   "cell_type": "code",
   "execution_count": 15,
   "id": "2ce97c35-5a58-4641-8108-61bc7b490498",
   "metadata": {},
   "outputs": [
    {
     "data": {
      "text/plain": [
       "'this is papa'"
      ]
     },
     "execution_count": 15,
     "metadata": {},
     "output_type": "execute_result"
    }
   ],
   "source": [
    "class papa:\n",
    "    def test_papa(self):\n",
    "        return'this is papa'\n",
    "class maa:\n",
    "    def test_maa(self):\n",
    "        return'this is maa'\n",
    "class child(papa , maa) :\n",
    "    pass\n",
    "\n",
    "beta=child()\n",
    "beta.test_papa()"
   ]
  },
  {
   "cell_type": "code",
   "execution_count": 16,
   "id": "7b2c76a2-3e1c-4091-9a27-2d3d5204410b",
   "metadata": {},
   "outputs": [
    {
     "data": {
      "text/plain": [
       "'this is maa'"
      ]
     },
     "execution_count": 16,
     "metadata": {},
     "output_type": "execute_result"
    }
   ],
   "source": [
    "beta.test_maa()"
   ]
  },
  {
   "cell_type": "raw",
   "id": "46c312ca-237d-43de-bd6f-f79fbf35522f",
   "metadata": {},
   "source": [
    "3. Multilevel Inheritance : In multilevel inheritance, features of the base class and the derived class are further inherited                             into the new derived class."
   ]
  },
  {
   "cell_type": "code",
   "execution_count": 23,
   "id": "ba50cd8f-b2ae-4949-9e97-02c422867dd2",
   "metadata": {},
   "outputs": [
    {
     "data": {
      "text/plain": [
       "'this is the method from class one'"
      ]
     },
     "execution_count": 23,
     "metadata": {},
     "output_type": "execute_result"
    }
   ],
   "source": [
    "class one:\n",
    "    def test_1(self):\n",
    "        return 'this is the method from class one'\n",
    "\n",
    "class second(one):\n",
    "    \n",
    "    def test_2(self):\n",
    "        return'this is te method from class two'    \n",
    "   \n",
    "class third(second):\n",
    "    pass    \n",
    "    \n",
    "teen=third()\n",
    "\n",
    "teen.test_1()\n"
   ]
  },
  {
   "cell_type": "code",
   "execution_count": 24,
   "id": "d6aef22c-6a8f-4749-b24e-01230246156a",
   "metadata": {},
   "outputs": [
    {
     "data": {
      "text/plain": [
       "'this is te method from class two'"
      ]
     },
     "execution_count": 24,
     "metadata": {},
     "output_type": "execute_result"
    }
   ],
   "source": [
    "teen.test_2()"
   ]
  },
  {
   "cell_type": "raw",
   "id": "feca8b8b-4df9-4360-b70e-090ca4ee1b7c",
   "metadata": {},
   "source": [
    "4. Hierarchical Inheritance: When more than one derived class are created from a single base this type of inheritance is called hierarchical inheritance."
   ]
  },
  {
   "cell_type": "code",
   "execution_count": 26,
   "id": "3d3ca95a-4d37-44e6-8024-ff23254df864",
   "metadata": {},
   "outputs": [
    {
     "name": "stdout",
     "output_type": "stream",
     "text": [
      "This function is in parent class.\n",
      "This function is in child 1.\n",
      "This function is in parent class.\n",
      "This function is in child 2.\n"
     ]
    }
   ],
   "source": [
    "\n",
    "class Parent:\n",
    "\tdef func1(self):\n",
    "\t\tprint(\"This function is in parent class.\")\n",
    "\n",
    "class Child1(Parent):\n",
    "\tdef func2(self):\n",
    "\t\tprint(\"This function is in child 1.\")\n",
    "\n",
    "class Child2(Parent):\n",
    "\tdef func3(self):\n",
    "\t\tprint(\"This function is in child 2.\")\n",
    "\n",
    "obj1 = Child1()\n",
    "obj2 = Child2()\n",
    "obj1.func1()\n",
    "obj1.func2()\n",
    "obj2.func1()\n",
    "obj2.func3()\n"
   ]
  },
  {
   "cell_type": "raw",
   "id": "7cf552dc-10ed-403d-ae71-0df7cdba4402",
   "metadata": {},
   "source": [
    "5.Hybrid Inheritance: Inheritance consisting of multiple types of inheritance is called hybrid inheritance."
   ]
  },
  {
   "cell_type": "code",
   "execution_count": 28,
   "id": "efcc5d8d-7e8d-45ab-99a4-f628620de5f7",
   "metadata": {},
   "outputs": [
    {
     "name": "stdout",
     "output_type": "stream",
     "text": [
      "This function is in school.\n",
      "This function is in student 1. \n",
      "This function is in student 3.\n"
     ]
    }
   ],
   "source": [
    "class School:\n",
    "    def func1(self):\n",
    "        print(\"This function is in school.\")\n",
    " \n",
    "class Student1(School):\n",
    "    def func2(self):\n",
    "        print(\"This function is in student 1. \")\n",
    " \n",
    "class Student2(School):\n",
    "    def func3(self):\n",
    "        print(\"This function is in student 2.\")\n",
    " \n",
    "class Student3(Student1, School):\n",
    "    def func4(self):\n",
    "        print(\"This function is in student 3.\")\n",
    " \n",
    "object = Student3()\n",
    "object.func1()\n",
    "object.func2()\n",
    "object.func4()"
   ]
  },
  {
   "cell_type": "code",
   "execution_count": null,
   "id": "baa1ba34-ea33-4244-bf35-2855f6e2b569",
   "metadata": {},
   "outputs": [],
   "source": []
  }
 ],
 "metadata": {
  "kernelspec": {
   "display_name": "Python 3 (ipykernel)",
   "language": "python",
   "name": "python3"
  },
  "language_info": {
   "codemirror_mode": {
    "name": "ipython",
    "version": 3
   },
   "file_extension": ".py",
   "mimetype": "text/x-python",
   "name": "python",
   "nbconvert_exporter": "python",
   "pygments_lexer": "ipython3",
   "version": "3.10.8"
  }
 },
 "nbformat": 4,
 "nbformat_minor": 5
}
