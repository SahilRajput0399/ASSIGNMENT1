{
 "cells": [
  {
   "cell_type": "markdown",
   "id": "74daba11-1e6f-4fc5-bc71-2668282576b5",
   "metadata": {},
   "source": [
    "Ques1: Which keyword is used to create a function?Create a function to return a list of odd numbers in the\n",
    "range of 1 to 25.\n"
   ]
  },
  {
   "cell_type": "markdown",
   "id": "9e630818-5add-463e-9137-a76aee93e431",
   "metadata": {},
   "source": [
    "Ans: The keyword used to create a function is \"def\"."
   ]
  },
  {
   "cell_type": "code",
   "execution_count": 19,
   "id": "e88ad1c8-4326-4184-95e9-dab182c1691c",
   "metadata": {},
   "outputs": [],
   "source": [
    "def odd() :\n",
    "    list_odd = []\n",
    "    for i in range(1,25) :\n",
    "        if i % 2 != 0 :\n",
    "            list_odd.append(i)\n",
    "    return list_odd   \n",
    "        "
   ]
  },
  {
   "cell_type": "code",
   "execution_count": 20,
   "id": "81f56d48-2b9e-4d28-85a9-ab7b7a090a9a",
   "metadata": {},
   "outputs": [
    {
     "data": {
      "text/plain": [
       "[1, 3, 5, 7, 9, 11, 13, 15, 17, 19, 21, 23]"
      ]
     },
     "execution_count": 20,
     "metadata": {},
     "output_type": "execute_result"
    }
   ],
   "source": [
    "odd()"
   ]
  },
  {
   "cell_type": "markdown",
   "id": "a7416bfc-1c20-437a-98bb-1919f0495ad5",
   "metadata": {},
   "source": [
    "Ques 2:  Why *args and **kwargs is used in some functions? Create a function each for *args and **kwargs\n",
    "         to demonstrate their use."
   ]
  },
  {
   "cell_type": "markdown",
   "id": "0508d55f-f189-493a-95d5-320d3de89bcc",
   "metadata": {},
   "source": [
    "Ans:   ** args is used to pass a variable number of arguments to the function, treated as a tuple. \n",
    "      **kwargs allows you to pass keyworded variable length of arguments to a function, treated as a dictionary. \n",
    "\n",
    "\n"
   ]
  },
  {
   "cell_type": "code",
   "execution_count": 32,
   "id": "fd4c6fe8-74e8-48fa-a8ab-64dc74c40ed1",
   "metadata": {},
   "outputs": [],
   "source": [
    "def test1(*args):\n",
    "    \n",
    "    return args"
   ]
  },
  {
   "cell_type": "code",
   "execution_count": 37,
   "id": "7de591e7-89ad-4617-a415-f1037286cbef",
   "metadata": {},
   "outputs": [
    {
     "data": {
      "text/plain": [
       "tuple"
      ]
     },
     "execution_count": 37,
     "metadata": {},
     "output_type": "execute_result"
    }
   ],
   "source": [
    "type(test1())"
   ]
  },
  {
   "cell_type": "code",
   "execution_count": 29,
   "id": "3a0b693e-d447-4858-9ac5-32590538361f",
   "metadata": {},
   "outputs": [
    {
     "data": {
      "text/plain": [
       "(1, 2, 3, 'sahil', 'hey')"
      ]
     },
     "execution_count": 29,
     "metadata": {},
     "output_type": "execute_result"
    }
   ],
   "source": [
    "test1(1,2,3,'sahil','hey')"
   ]
  },
  {
   "cell_type": "code",
   "execution_count": 34,
   "id": "ccc2c7da-bbb2-479f-81fb-183815a3dbd1",
   "metadata": {},
   "outputs": [],
   "source": [
    "def check(**kwargs) :\n",
    "    \n",
    "    return kwargs"
   ]
  },
  {
   "cell_type": "code",
   "execution_count": 36,
   "id": "c297b886-9302-41ab-a5dc-fbb297cfe68a",
   "metadata": {},
   "outputs": [
    {
     "data": {
      "text/plain": [
       "dict"
      ]
     },
     "execution_count": 36,
     "metadata": {},
     "output_type": "execute_result"
    }
   ],
   "source": [
    "type(check())"
   ]
  },
  {
   "cell_type": "code",
   "execution_count": 38,
   "id": "c16b6aaa-bb01-4d87-8a6a-5a4f78cf1bb6",
   "metadata": {},
   "outputs": [
    {
     "data": {
      "text/plain": [
       "{'a': 'sahil', 'b': 'tushar', 'c': 'rajput'}"
      ]
     },
     "execution_count": 38,
     "metadata": {},
     "output_type": "execute_result"
    }
   ],
   "source": [
    "check(a='sahil',b='tushar',c='rajput')"
   ]
  },
  {
   "cell_type": "markdown",
   "id": "c9c2e812-54de-4aa4-9507-7839a34e3299",
   "metadata": {},
   "source": [
    "Ques3:   What is an iterator in python? Name the method used to initialise the iterator object and the method\n",
    "        used for iteration. Use these methods to print the first five elements of the given list [2, 4, 6, 8, 10, 12, 14,\n",
    "        16, 18, 20]."
   ]
  },
  {
   "cell_type": "markdown",
   "id": "76577d60-1d17-461e-90f0-16bf061f7aec",
   "metadata": {},
   "source": [
    "Ans:  Iterator in python is an object that is used to iterate over iterable objects like lists, tuples, dicts, and sets. The         iterator object is initialized using the iter() method. It uses the next() method for iteration."
   ]
  },
  {
   "cell_type": "code",
   "execution_count": 40,
   "id": "82dac81d-0403-4e88-b63d-b47a7272d5b4",
   "metadata": {},
   "outputs": [
    {
     "name": "stdout",
     "output_type": "stream",
     "text": [
      "2\n",
      "4\n",
      "6\n",
      "8\n",
      "10\n"
     ]
    }
   ],
   "source": [
    "l1=[2,4,6,8,10,12,14,16,18,20]\n",
    "\n",
    "s=iter(l1)\n",
    "\n",
    "for i in range(5) :\n",
    "    \n",
    "    print(next(s))"
   ]
  },
  {
   "cell_type": "markdown",
   "id": "7bb6157b-fadd-4f55-9dce-0ca7c33ea41a",
   "metadata": {},
   "source": [
    "Ques 4:  What is a generator function in python? Why yield keyword is used? Give an example of a generator\n",
    "         function."
   ]
  },
  {
   "cell_type": "markdown",
   "id": "37a195b6-a6b3-4f33-a236-daf8a19e4aa5",
   "metadata": {},
   "source": [
    "Ans :    A generator function is a special type of function in Python that allows you to generate an iterator, rather than              returning a single value. The main difference between a generator function and a regular function is the use of the            'yield' keyword instead of the 'return' keyword.\n",
    "         The yield keyword is used to produce a value from the generator function, and then pause the function's execution.\n",
    "         "
   ]
  },
  {
   "cell_type": "code",
   "execution_count": 66,
   "id": "65270a00-2b7f-4d9f-8a41-3506cecf1711",
   "metadata": {},
   "outputs": [
    {
     "name": "stdout",
     "output_type": "stream",
     "text": [
      "1\n",
      "2\n",
      "3\n",
      "4\n",
      "5\n"
     ]
    }
   ],
   "source": [
    "def count(n):\n",
    "    count=1\n",
    "    while count <=n:\n",
    "        yield count\n",
    "        count+=1\n",
    "c=count(5)\n",
    "\n",
    "for i in range(5) :\n",
    "    print(next(c))"
   ]
  },
  {
   "cell_type": "markdown",
   "id": "8926645e-7c48-4ce8-af58-faafa9876ee2",
   "metadata": {},
   "source": [
    "Ques 5:  Create a generator function for prime numbers less than 1000. Use the next() method to print the\n",
    "         first 20 prime numbers."
   ]
  },
  {
   "cell_type": "code",
   "execution_count": 62,
   "id": "91e0493c-7e5d-4e31-94a9-2cbc2295f5ba",
   "metadata": {},
   "outputs": [
    {
     "name": "stdout",
     "output_type": "stream",
     "text": [
      "2\n",
      "3\n",
      "5\n",
      "7\n",
      "11\n",
      "13\n",
      "17\n",
      "19\n",
      "23\n",
      "29\n",
      "31\n",
      "37\n",
      "41\n",
      "43\n",
      "47\n",
      "53\n",
      "59\n",
      "61\n",
      "67\n",
      "71\n"
     ]
    }
   ],
   "source": [
    "def prime(n) :\n",
    "    for i in range(2,n) :\n",
    "        for j in range(2,i):\n",
    "            if i % j == 0 :\n",
    "                break\n",
    "        else :\n",
    "            yield i  \n",
    "s=prime(1000)   \n",
    "\n",
    "for i in range(20):\n",
    "    print(next(s))\n",
    "    \n",
    "    "
   ]
  },
  {
   "cell_type": "markdown",
   "id": "31ff489d-2a62-4e4f-bef4-e0572e59bb2e",
   "metadata": {},
   "source": [
    "Ques 6:  Write a python program to print the first 10 Fibonacci numbers using a while loop."
   ]
  },
  {
   "cell_type": "code",
   "execution_count": 75,
   "id": "c44f3ed1-88af-43e9-8370-2addb0246988",
   "metadata": {},
   "outputs": [
    {
     "name": "stdout",
     "output_type": "stream",
     "text": [
      "0\n",
      "1\n",
      "1\n",
      "2\n",
      "3\n",
      "5\n",
      "8\n",
      "13\n",
      "21\n"
     ]
    }
   ],
   "source": [
    "def fib(n):\n",
    "    a,b=0,1\n",
    "    count=1\n",
    "    while count < n :\n",
    "        print(a)\n",
    "        c = a+b\n",
    "        a=b\n",
    "        b=c\n",
    "        count=count+1\n",
    "fib(10)        "
   ]
  },
  {
   "cell_type": "markdown",
   "id": "92a62ae8-cebc-4764-8d32-a9b2e323b90c",
   "metadata": {},
   "source": [
    "Ques 7 : Write a List Comprehension to iterate through the given string: ‘pwskills’.\n",
    "        Expected output: ['p', 'w', 's', 'k', 'i', 'l', 'l', 's']"
   ]
  },
  {
   "cell_type": "code",
   "execution_count": 76,
   "id": "8175278e-440c-4265-86a1-c88c974031ee",
   "metadata": {},
   "outputs": [
    {
     "data": {
      "text/plain": [
       "['p', 'w', 's', 'k', 'i', 'l', 'l', 's']"
      ]
     },
     "execution_count": 76,
     "metadata": {},
     "output_type": "execute_result"
    }
   ],
   "source": [
    "s='pwskills'\n",
    "[i for i in s]"
   ]
  },
  {
   "cell_type": "markdown",
   "id": "141782fe-d13e-4d28-b8cc-86436d06e160",
   "metadata": {},
   "source": [
    "Ques 8:  Write a python program to check whether a given number is Palindrome or not using a while loop."
   ]
  },
  {
   "cell_type": "code",
   "execution_count": 1,
   "id": "90595853-a657-4299-92f7-0bac5b7b0676",
   "metadata": {},
   "outputs": [
    {
     "name": "stdin",
     "output_type": "stream",
     "text": [
      "Enter a number:  989989\n"
     ]
    },
    {
     "name": "stdout",
     "output_type": "stream",
     "text": [
      "989989 is a palindrome.\n"
     ]
    }
   ],
   "source": [
    "def pali(num):\n",
    "    original = num\n",
    "    rev = 0\n",
    "    while num > 0:\n",
    "        rev = (rev * 10) + (num % 10)\n",
    "        num = num // 10\n",
    "    return original == rev\n",
    "\n",
    "num = int(input(\"Enter a number: \"))\n",
    "if pali(num):\n",
    "    print(num, \"is a palindrome.\")\n",
    "else:\n",
    "    print(num, \"is not a palindrome.\")\n",
    "\n",
    "    \n"
   ]
  },
  {
   "cell_type": "markdown",
   "id": "3dbbf447-cb56-427e-8b52-f6883d900897",
   "metadata": {},
   "source": [
    "Ques 9: Write a code to print odd numbers from 1 to 100 using list comprehension.\n",
    "        Note: Use a list comprehension to create a list from 1 to 100 and use another List comprehension to filter\n",
    "        out odd numbers."
   ]
  },
  {
   "cell_type": "code",
   "execution_count": 79,
   "id": "82a15c7f-5942-413c-97e0-ca585e460ac8",
   "metadata": {},
   "outputs": [
    {
     "data": {
      "text/plain": [
       "[1,\n",
       " 3,\n",
       " 5,\n",
       " 7,\n",
       " 9,\n",
       " 11,\n",
       " 13,\n",
       " 15,\n",
       " 17,\n",
       " 19,\n",
       " 21,\n",
       " 23,\n",
       " 25,\n",
       " 27,\n",
       " 29,\n",
       " 31,\n",
       " 33,\n",
       " 35,\n",
       " 37,\n",
       " 39,\n",
       " 41,\n",
       " 43,\n",
       " 45,\n",
       " 47,\n",
       " 49,\n",
       " 51,\n",
       " 53,\n",
       " 55,\n",
       " 57,\n",
       " 59,\n",
       " 61,\n",
       " 63,\n",
       " 65,\n",
       " 67,\n",
       " 69,\n",
       " 71,\n",
       " 73,\n",
       " 75,\n",
       " 77,\n",
       " 79,\n",
       " 81,\n",
       " 83,\n",
       " 85,\n",
       " 87,\n",
       " 89,\n",
       " 91,\n",
       " 93,\n",
       " 95,\n",
       " 97,\n",
       " 99]"
      ]
     },
     "execution_count": 79,
     "metadata": {},
     "output_type": "execute_result"
    }
   ],
   "source": [
    "[i for i in range(1,100) if i%2!=0]"
   ]
  },
  {
   "cell_type": "code",
   "execution_count": 80,
   "id": "1f6b2d2b-f997-4e5f-95b8-8f081a77d2fc",
   "metadata": {},
   "outputs": [],
   "source": [
    "l1 = [i for i in range(1,100)]"
   ]
  },
  {
   "cell_type": "code",
   "execution_count": 82,
   "id": "6e19cc77-62fd-464c-af0c-76a46f30b18e",
   "metadata": {},
   "outputs": [
    {
     "data": {
      "text/plain": [
       "[1,\n",
       " 3,\n",
       " 5,\n",
       " 7,\n",
       " 9,\n",
       " 11,\n",
       " 13,\n",
       " 15,\n",
       " 17,\n",
       " 19,\n",
       " 21,\n",
       " 23,\n",
       " 25,\n",
       " 27,\n",
       " 29,\n",
       " 31,\n",
       " 33,\n",
       " 35,\n",
       " 37,\n",
       " 39,\n",
       " 41,\n",
       " 43,\n",
       " 45,\n",
       " 47,\n",
       " 49,\n",
       " 51,\n",
       " 53,\n",
       " 55,\n",
       " 57,\n",
       " 59,\n",
       " 61,\n",
       " 63,\n",
       " 65,\n",
       " 67,\n",
       " 69,\n",
       " 71,\n",
       " 73,\n",
       " 75,\n",
       " 77,\n",
       " 79,\n",
       " 81,\n",
       " 83,\n",
       " 85,\n",
       " 87,\n",
       " 89,\n",
       " 91,\n",
       " 93,\n",
       " 95,\n",
       " 97,\n",
       " 99]"
      ]
     },
     "execution_count": 82,
     "metadata": {},
     "output_type": "execute_result"
    }
   ],
   "source": [
    "list(filter(lambda x : x % 2 != 0 , l1))"
   ]
  },
  {
   "cell_type": "code",
   "execution_count": null,
   "id": "821df2b6-c985-4342-bbb3-e6c11422ca59",
   "metadata": {},
   "outputs": [],
   "source": []
  }
 ],
 "metadata": {
  "kernelspec": {
   "display_name": "Python 3 (ipykernel)",
   "language": "python",
   "name": "python3"
  },
  "language_info": {
   "codemirror_mode": {
    "name": "ipython",
    "version": 3
   },
   "file_extension": ".py",
   "mimetype": "text/x-python",
   "name": "python",
   "nbconvert_exporter": "python",
   "pygments_lexer": "ipython3",
   "version": "3.10.8"
  }
 },
 "nbformat": 4,
 "nbformat_minor": 5
}
