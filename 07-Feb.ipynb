{
 "cells": [
  {
   "cell_type": "markdown",
   "id": "32f673d8-4247-4924-8357-6cab5de8d0c9",
   "metadata": {},
   "source": [
    "Q2. Solve the below-given questions using at least one of the following:\n",
    "1. Lambda function\n",
    "2. Filter function\n",
    "3. Map function\n",
    "4. List Comprehension"
   ]
  },
  {
   "cell_type": "markdown",
   "id": "0c435fc4-0083-493b-ad18-13136e3b6014",
   "metadata": {},
   "source": [
    "1.Check if the string starts with a particular letter."
   ]
  },
  {
   "cell_type": "code",
   "execution_count": 6,
   "id": "cb0665cc-283a-4a3e-839a-7bcf2360b231",
   "metadata": {},
   "outputs": [
    {
     "data": {
      "text/plain": [
       "[True, True, True, True, True]"
      ]
     },
     "execution_count": 6,
     "metadata": {},
     "output_type": "execute_result"
    }
   ],
   "source": [
    "s='Sahil'\n",
    "[True for i in s if type(i)==str]"
   ]
  },
  {
   "cell_type": "markdown",
   "id": "3bf7cd25-239a-4f8f-9ce4-f8cfd22d9403",
   "metadata": {},
   "source": [
    "2. Check if the string is numeric"
   ]
  },
  {
   "cell_type": "code",
   "execution_count": 1,
   "id": "bcf418a9-5f21-46f9-92e5-17e0d6ec1557",
   "metadata": {},
   "outputs": [],
   "source": [
    "is_numeric = lambda string: string.isdigit()\n",
    "strings = ['123', '456','789' ,'abc']    \n",
    "result =list(filter(lambda x: is_numeric(x), strings))"
   ]
  },
  {
   "cell_type": "markdown",
   "id": "257ed41f-5fc2-47d6-83f9-b9555134350c",
   "metadata": {},
   "source": [
    "3.Sort a list of tuples having fruit names and their quantity. [(\"mango\",99),(\"orange\",80), (\"grapes\", 1000)]"
   ]
  },
  {
   "cell_type": "code",
   "execution_count": 39,
   "id": "68629f0c-ca37-4cc4-9c33-290be3c3131a",
   "metadata": {},
   "outputs": [
    {
     "data": {
      "text/plain": [
       "[('orange', 80), ('mango', 99), ('grapes', 1000)]"
      ]
     },
     "execution_count": 39,
     "metadata": {},
     "output_type": "execute_result"
    }
   ],
   "source": [
    "t=[(\"mango\",99),(\"orange\",80), (\"grapes\", 1000)]\n",
    "sorted(t,key=lambda x: x[1])"
   ]
  },
  {
   "cell_type": "markdown",
   "id": "8f01864b-feb0-44f7-8513-3babedabca13",
   "metadata": {},
   "source": [
    "4.Find the squares of numbers from 1 to 10"
   ]
  },
  {
   "cell_type": "code",
   "execution_count": 7,
   "id": "79fc57c6-8918-461a-9a8e-a0cf636a723c",
   "metadata": {},
   "outputs": [
    {
     "data": {
      "text/plain": [
       "[1, 4, 9, 16, 25, 36, 49, 64, 81, 100]"
      ]
     },
     "execution_count": 7,
     "metadata": {},
     "output_type": "execute_result"
    }
   ],
   "source": [
    "[i**2 for i in range(1,11)]"
   ]
  },
  {
   "cell_type": "markdown",
   "id": "91d5cfc3-0501-400c-8efe-b863802def51",
   "metadata": {},
   "source": [
    "5.Find the cube root of numbers from 1 to 10"
   ]
  },
  {
   "cell_type": "code",
   "execution_count": 10,
   "id": "7658c5d9-b570-4282-a20e-ec1f29f3bfee",
   "metadata": {},
   "outputs": [
    {
     "data": {
      "text/plain": [
       "[1, 8, 27, 64, 125, 216, 343, 512, 729, 1000]"
      ]
     },
     "execution_count": 10,
     "metadata": {},
     "output_type": "execute_result"
    }
   ],
   "source": [
    "[i**3 for i in range(1,11)]"
   ]
  },
  {
   "cell_type": "markdown",
   "id": "d3d22136-2e12-47a6-96d6-40e0af4aaa8e",
   "metadata": {},
   "source": [
    "6.Check if a given number is even"
   ]
  },
  {
   "cell_type": "code",
   "execution_count": 35,
   "id": "e2da1532-fe40-4a38-8f6d-61ecde49a1e8",
   "metadata": {},
   "outputs": [],
   "source": [
    "c=lambda x : x %2 == 0"
   ]
  },
  {
   "cell_type": "code",
   "execution_count": 36,
   "id": "ae787d3b-f75d-4710-9ff1-93b05903cdda",
   "metadata": {},
   "outputs": [
    {
     "data": {
      "text/plain": [
       "True"
      ]
     },
     "execution_count": 36,
     "metadata": {},
     "output_type": "execute_result"
    }
   ],
   "source": [
    "c(432)"
   ]
  },
  {
   "cell_type": "markdown",
   "id": "ca394b9c-62dc-48c2-aa10-38ed176cd6a4",
   "metadata": {},
   "source": [
    "7.Filter odd numbers from the given list.\n",
    "[1,2,3,4,5,6,7,8,9,10]"
   ]
  },
  {
   "cell_type": "code",
   "execution_count": 17,
   "id": "8c6b9f23-1471-4cdc-bc31-9b685ce0ed91",
   "metadata": {},
   "outputs": [
    {
     "data": {
      "text/plain": [
       "[1, 3, 5, 7, 9]"
      ]
     },
     "execution_count": 17,
     "metadata": {},
     "output_type": "execute_result"
    }
   ],
   "source": [
    "l=[1,2,3,4,5,6,7,8,9,10]\n",
    "list(filter(lambda x : x % 2 != 0 , l))"
   ]
  },
  {
   "cell_type": "markdown",
   "id": "44db5688-07be-4231-9c50-f488cccc4ace",
   "metadata": {},
   "source": [
    "8.Sort a list of integers into positive and negative integers lists.\n",
    "[1,2,3,4,5,6,-1,-2,-3,-4,-5,0]"
   ]
  },
  {
   "cell_type": "code",
   "execution_count": 34,
   "id": "d39285d7-904c-44b3-b216-22555932b8ff",
   "metadata": {},
   "outputs": [
    {
     "data": {
      "text/plain": [
       "[1, 2, 3, 4, 5, 6, 0]"
      ]
     },
     "execution_count": 34,
     "metadata": {},
     "output_type": "execute_result"
    }
   ],
   "source": [
    "l1=[1,2,3,4,5,6,-1,-2,-3,-4,-5,0]\n",
    "\n",
    "list(filter(lambda x : x >= 0 ,l1))\n",
    "\n"
   ]
  },
  {
   "cell_type": "code",
   "execution_count": 33,
   "id": "93ca80b3-b2c6-452e-8065-a28adfbe417f",
   "metadata": {},
   "outputs": [
    {
     "data": {
      "text/plain": [
       "[-1, -2, -3, -4, -5]"
      ]
     },
     "execution_count": 33,
     "metadata": {},
     "output_type": "execute_result"
    }
   ],
   "source": [
    " [i for i in l1 if i < 0]"
   ]
  },
  {
   "cell_type": "code",
   "execution_count": null,
   "id": "370c728b-e57a-4314-9191-eabdcb788040",
   "metadata": {},
   "outputs": [],
   "source": [
    "Ques1. "
   ]
  },
  {
   "cell_type": "code",
   "execution_count": null,
   "id": "c5d2e2e8-51cb-43b6-9a32-304987cd5f47",
   "metadata": {},
   "outputs": [],
   "source": [
    "\n",
    "def check_password(password):\n",
    "    upper_count = 0\n",
    "    lower_count = 0\n",
    "    digit_count = 0\n",
    "    special_count = 0\n",
    "    special_characters = \"!@#$^&*\"\n",
    "    for char in password:\n",
    "        if char.isupper():\n",
    "            upper_count += 1\n",
    "        elif char.islower():\n",
    "            lower_count += 1\n",
    "        elif char.isdigit():\n",
    "            digit_count += 1\n",
    "        elif char in special_characters:\n",
    "            special_count += 1\n",
    "            if upper_count >= 2 and lower_count >= 2 and digit_count >= 1 and special_count >= 3 and len(password) == 10:\n",
    "                return \"Valid Password\"\n",
    "            else:\n",
    "                return \"Invalid Password\"\n",
    "      "
   ]
  }
 ],
 "metadata": {
  "kernelspec": {
   "display_name": "Python 3 (ipykernel)",
   "language": "python",
   "name": "python3"
  },
  "language_info": {
   "codemirror_mode": {
    "name": "ipython",
    "version": 3
   },
   "file_extension": ".py",
   "mimetype": "text/x-python",
   "name": "python",
   "nbconvert_exporter": "python",
   "pygments_lexer": "ipython3",
   "version": "3.10.8"
  }
 },
 "nbformat": 4,
 "nbformat_minor": 5
}
