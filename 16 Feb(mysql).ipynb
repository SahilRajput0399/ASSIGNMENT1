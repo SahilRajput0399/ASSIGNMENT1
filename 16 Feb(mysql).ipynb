{
 "cells": [
  {
   "cell_type": "markdown",
   "id": "10cec885-489f-4d91-bc68-3d15aabf46fb",
   "metadata": {},
   "source": [
    "Ques1.What is a database? differentiate between SQL and NoSQL databases."
   ]
  },
  {
   "cell_type": "markdown",
   "id": "b0e0139c-08e3-449a-a3e8-e66c28f74ee4",
   "metadata": {},
   "source": [
    "Ans.  A database is a organized collection of data that can be accessed,managed,and updated.Databases are used to store and organize data in a way that makes it easy to retrieve and manipulate the information they contain.There are two main types of databases: SQL and NoSQL. "
   ]
  },
  {
   "cell_type": "markdown",
   "id": "3a47afea-1e01-4b15-a564-dfad7a8bf781",
   "metadata": {},
   "source": [
    " SQL databases,also known as relational databases,store data in tables with predefined columns and rows.The use a structured query languages(SQL) to interact with the data.SQL databases are best suited for applications where the data has a well-defined structure,such as financial applications or invertory management systems.Examples of SQL databases include MySQL,PostgresSQL,Oracle,and Microsoft SQL Server.\n",
    "    "
   ]
  },
  {
   "cell_type": "markdown",
   "id": "3c70fc1d-e434-4657-937a-d1e90ae8e125",
   "metadata": {},
   "source": [
    "NoSQL databases,do not use tables with predefined columns and rows.They store data in a variety of ways,such as key-value pairs,documents-oriented databases,and graph databases.NoSQL databases are best suited for applications where the data is unstructured or semi-structured,such as social media,big data,and real-time analytics.\n",
    "    Examples of NoSQL databases include MongoDB,Cassandra, and Redis.\n",
    "    "
   ]
  },
  {
   "cell_type": "markdown",
   "id": "9e21ea02-7191-401b-b787-0599a15fd28b",
   "metadata": {},
   "source": [
    "Ques2. What is DDL? EXplain why CREATE,DROP,ALTER ,and TRUNCATE are used with an example."
   ]
  },
  {
   "cell_type": "markdown",
   "id": "3876dece-5fc0-46b9-8e79-ab26e1481cf0",
   "metadata": {},
   "source": [
    "Ans. DDL stands for Data Defintion Language,which is a subset of SQL used to define and manage the structure of databases and database objects.DDL statements are used to create,modify,and delete database objects.DDL statements are used to create,modify,and delete database objects such as tables,indexes, and constraints.\n",
    "        \n",
    "       "
   ]
  },
  {
   "cell_type": "markdown",
   "id": "aa1693a5-22c1-47ec-9c13-b4dfdfadc5fd",
   "metadata": {},
   "source": [
    " Here are some common DDL statements and their uses:\n",
    " \n",
    "1.CREATE:This statement is used to create a new database object,such as a table or index.For example-The following statement creates a new table called \"employees\" with columns for employee ID,name,and salary:\n",
    "          CREATE TABLE employee( id INT PRIMARY KEY,name VARCHAR(50),salary INT );\n",
    "                \n",
    "2.DROP:This statemnet is used to delete an existing database object,such as a table or index.For example-the following statement drops the \"employees\"table:\n",
    "                       DROP TABLE employees;\n",
    "                        \n",
    " 3.ALTER:This statement is used to modify an existing database  object,such as table or column.For example,the following statement adds a new column called\"dapartment\"to the \"employees\"table:\n",
    "                    ALTER TABLE employee ADD COLUMN department VARCHAR(50);\n",
    "\n",
    "4.TRUNCATE:This statements is used to remove all the data from a table,while leaving the table structure intact.for example statement removes all data from the \"employees\"table.\n",
    "                  TRUNCATE TABLE employees;"
   ]
  },
  {
   "cell_type": "markdown",
   "id": "de1239d0-c6e6-42b3-9f5d-64d2fd317e49",
   "metadata": {},
   "source": [
    "Ques3.What is DML? Explain INSERT,UPDATE, and DELETE with an example."
   ]
  },
  {
   "cell_type": "markdown",
   "id": "728093bd-c36c-4616-8b41-9338b4046562",
   "metadata": {},
   "source": [
    "Ans. DML stands for Data Manipulation Language,which is subset of SQL used to manipulate data in databases.DML statements are used to insert,upadte and delete data in database tables.\n",
    "\n",
    "1.INSERT: This statements is used to insert new into a table.\n",
    "          INSERT INTO employees(id, name , salary) VALUES(1, 'John Doe' , 50000);\n",
    "    \n",
    "2.UPDATE:This statement is used to update existing data in a table.For example the following statements updates the salary of an employee with ID 1 in the \"employees\"table:\n",
    "        UPDATE employees SET salary = 55000 WHERE id = 1;\n",
    "    \n",
    "  3.DELETE:This statements is used to delete existing data from atable.for example,The following statement deletes an employee with ID 1 from the \"employees\"table.\n",
    "        DELETE FROM employees WHERE id = 1;\n",
    "        "
   ]
  },
  {
   "cell_type": "markdown",
   "id": "6a7be781-bc75-416e-b26c-a07cd5fcd8ea",
   "metadata": {},
   "source": [
    "Ques4.What is DQL?Explain SELECT with an example."
   ]
  },
  {
   "cell_type": "markdown",
   "id": "28ede63d-3e13-4dd0-9c1e-2596621ce710",
   "metadata": {},
   "source": [
    "Ans. DQL stand for Data Query Language,which is subset of SQL used to retrieve data from databases.DQL statements are used to select and retrieve data from database tables.\n",
    "    \n",
    "The most common DQL statements is SELECT.\n",
    "       SELECT * from employees;    "
   ]
  },
  {
   "cell_type": "markdown",
   "id": "025e1d64-5578-451b-9ebc-465089d183f9",
   "metadata": {},
   "source": [
    "Ques5.Explain primary key and Foreign key."
   ]
  },
  {
   "cell_type": "markdown",
   "id": "e96c980b-6b99-431b-bf5f-c586a99de18c",
   "metadata": {},
   "source": [
    "Ans. A primary key is a unquie identifier for a record or row in a database table.It is used to ensure that each row in a table is unquiely identifiable and can be accesses or updated easily.\n",
    "    A primary key is a column or set of columns that are selected to identify each row in a table.It must be unique, meaning that no two rows can have the same primary key,and it must not contain null values.\n",
    "    \n",
    " A foreign key,is a field in a table that is used to reference the primary key of another table.It is used to establish a relationship between two tables,where the foreign key in one table refers to the primary key in another table.\n",
    "    "
   ]
  },
  {
   "cell_type": "markdown",
   "id": "cb9c8fb3-5bec-4bcb-8bfd-02b58badd15d",
   "metadata": {},
   "source": [
    "Ques6.Write a python code to connect MySQL to python.Explain the cursor()and execute()method."
   ]
  },
  {
   "cell_type": "markdown",
   "id": "cdfd0f69-adef-40bd-9514-53cd3958d0ea",
   "metadata": {},
   "source": [
    "Ans.  To connect MySQL to python,We need to use a python MySQL connector.The most common python MySQL connector is the 'mysql-connector-python'module,which can be installed using pip.       "
   ]
  },
  {
   "cell_type": "code",
   "execution_count": null,
   "id": "3ced679e-703f-4365-84fb-89300a867cc8",
   "metadata": {},
   "outputs": [],
   "source": [
    "import mysql.connector\n",
    "\n",
    "mydb =mysql.connector.connect(\n",
    "    \n",
    "            host = \"localhost\",\n",
    "            user='username\",\n",
    "            password=\"password\",\n",
    "            database=\"database_name\"\n",
    "        )\n",
    " \n",
    "mycursor = mydb.cursor()\n",
    "mycursor.execute(\"SELECT * from table_name\")\n",
    "\n",
    "myresult = mycursor.fetchall()\n",
    "        \n",
    "for i in myresult:\n",
    "    print(i)"
   ]
  },
  {
   "cell_type": "markdown",
   "id": "4c20480f-0527-4a25-9301-e9c75b0ca774",
   "metadata": {},
   "source": [
    "Ques7.Give the order of execution of SQL clauses in a SQL query"
   ]
  },
  {
   "cell_type": "markdown",
   "id": "3a3565e9-3322-4f52-9b78-bc949f9d9dcf",
   "metadata": {},
   "source": [
    "Ans. 1.'FROM'clause: This clause specifies the table(s) from which data is retrieved.\n",
    "    \n",
    "2.'JOIN'clause: If there are any joins in the query,they are executed next.This clause specifies how tables are joined together.\n",
    "        \n",
    "3.'WHERE'clause: This clause is used to filter the data based on specified conditions.\n",
    "    \n",
    "4.'GROUP BY\" clause: This clause is used to group the data based on specified columns.\n",
    "    \n",
    "5.'HAVING' clause: This clause is used to groups created by the 'GROUP BY'clause based on specified conditions.\n",
    "    \n",
    "6.'SELECT'clause : This clause is used to select the columns that will be included in the result set.\n",
    "    \n",
    "7.'DISTINCT'clause: If the query includes the 'DISTINCT'keyword,duplicates in the result set are removed at this stage.\n",
    "    s\n",
    "8.'ORDER BY' clause: This clause is used to sort the result set based on specified columns.\n",
    "    \n",
    "9.'LIMIT' and 'OFFSET' clauses: If specified ,these clauses are used to limit the number of rows returned by the query and skip a specified number of rows"
   ]
  }
 ],
 "metadata": {
  "kernelspec": {
   "display_name": "Python 3 (ipykernel)",
   "language": "python",
   "name": "python3"
  },
  "language_info": {
   "codemirror_mode": {
    "name": "ipython",
    "version": 3
   },
   "file_extension": ".py",
   "mimetype": "text/x-python",
   "name": "python",
   "nbconvert_exporter": "python",
   "pygments_lexer": "ipython3",
   "version": "3.10.8"
  }
 },
 "nbformat": 4,
 "nbformat_minor": 5
}
