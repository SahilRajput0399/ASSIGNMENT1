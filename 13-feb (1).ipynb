{
 "cells": [
  {
   "cell_type": "markdown",
   "id": "70f97311-29cb-4f1a-bcc7-0f3b7f209f11",
   "metadata": {},
   "source": [
    "Ques1. Explain why we have to use the Exception class while crating a custom Exception."
   ]
  },
  {
   "cell_type": "markdown",
   "id": "e76499d5-c5f8-48ba-a786-878220044bd7",
   "metadata": {},
   "source": [
    "Ans. In python,the built-in'Exception'class is the base class for all exceptions. when we create a custom exception,we usually want it to behave like a standard exception and be compatible with the existing exception handling mechanism in python.To achieve this,we need to inherit our custom exception class from the'exception' class.\n",
    "\n",
    "By inheriting from the 'exception'class our custom exception inherits all the functionality of base class,such as the ability to print a traceback,get a message string,and interact with other exceptions.This allows us to use our custom exception in the same way as the built-in exceptions,with the same 'try-except'block syntax.\n",
    "    \n",
    "    \n",
    "   "
   ]
  },
  {
   "cell_type": "markdown",
   "id": "2d0df7d6-37af-455b-a49c-89d39ffa3e85",
   "metadata": {},
   "source": [
    " Ques2.Write a program to print python Exception Hierarchy.    "
   ]
  },
  {
   "cell_type": "code",
   "execution_count": null,
   "id": "ff3c94f4-64f0-447c-ad61-ef427549de96",
   "metadata": {},
   "outputs": [],
   "source": [
    "import sys\n",
    "    \n",
    "def print_exception_hierarchy(exc):\n",
    "    print(type(exc))\n",
    "    for subclass in exc.__subclasses__():\n",
    "        print_exception_hierarchy(subclass)\n",
    "            \n",
    "        \n",
    "print_exception_hierarchy(BaseException)"
   ]
  },
  {
   "cell_type": "markdown",
   "id": "77851177-a16c-4272-b394-c596cee1ec39",
   "metadata": {},
   "source": [
    "Ques3. What errors are defined in the ArithmeticError class? Explain any two with an example."
   ]
  },
  {
   "cell_type": "markdown",
   "id": "6b8fd7ea-ef1f-45dd-8cf5-432391f66b36",
   "metadata": {},
   "source": [
    "Ans.\n",
    "The 'ArithmeticError' class is a built-in exception class in python that serves as a base class for all exceptions that occure during arithmetic operations.It is a subclass of the 'exception'class and itself the parent class for several more specific arithmetic-related exception classes.                                    "
   ]
  },
  {
   "cell_type": "code",
   "execution_count": null,
   "id": "6a3962f5-fbb2-4c33-a2ca-647c94afa28a",
   "metadata": {},
   "outputs": [],
   "source": [
    "1.\"ZeroDivisionError\":\n",
    "          This exception is raised when we try to divide a number by zero.\n",
    "        \n",
    "        for example:\n",
    "                     a = 10\n",
    "                     b = 0\n",
    "            try:\n",
    "                     c = a / b\n",
    "            except ZeroDivisionError:\n",
    "                    print(\"Error cannot divide by zero\")\n",
    "                    \n",
    "    2.\"OverflowError\":\n",
    "           This exception is raised when a calculation exceeds the maximum representable value for a numerical type\n",
    "        \n",
    "        for example:\n",
    "                     import sys \n",
    "                     a = sys.maxsize\n",
    "                    try:\n",
    "                        b = a * a\n",
    "                    except OverflowError:\n",
    "                           print(\"Error:Result too large to represents as a number\")\n",
    "                            "
   ]
  },
  {
   "cell_type": "markdown",
   "id": "2151c91e-2448-411f-8d65-76805ad4dca4",
   "metadata": {},
   "source": [
    "Ques4.Why LookupError class is used? Explain with an example KeyError and IndexError."
   ]
  },
  {
   "cell_type": "markdown",
   "id": "984b9a4a-813c-42dd-bf46-4a5390f90ad3",
   "metadata": {},
   "source": [
    "Ans. The \"LookupError\" class is a built-in exception class in python that serves as a base class for all exceptions that occure when a key or index not found during a lookup operation.It is a subclass of the \"Exception\"class and its itself the parent class for several more specific lookup-related exception classes.   "
   ]
  },
  {
   "cell_type": "code",
   "execution_count": null,
   "id": "c05c0ac7-1408-4e5b-9750-fd652d39b6cf",
   "metadata": {},
   "outputs": [],
   "source": [
    "  1.KeyError- This exception is raised when a dictionary key is not found in the dictionary.\n",
    "    \n",
    "     for example :\n",
    "                   my_dict = {'a': 1, 'b' : 2 ,'c' : 3}\n",
    "                try:\n",
    "                    value = my_dict['d']\n",
    "                except KeyError:\n",
    "                      print(\"Error: Key 'd' not found in dictionary\")\n",
    "                        "
   ]
  },
  {
   "cell_type": "code",
   "execution_count": null,
   "id": "f9e80aa1-92e1-4030-b3b8-cc0d5d83e8e7",
   "metadata": {},
   "outputs": [],
   "source": [
    " 2.IndexError: This exception is raised when we try to access an index that is out of range for alist or other sequences.\n",
    "             \n",
    "        for example:\n",
    "                      my_list = [1,2,3]\n",
    "                        try:\n",
    "                             value = my_list[3]\n",
    "                        except IndexError:\n",
    "                            print(\"Error : Index 3 is out of range for list\")\n",
    "                            "
   ]
  },
  {
   "cell_type": "markdown",
   "id": "d069c45e-3e8d-4caf-bd8b-769e90696399",
   "metadata": {},
   "source": [
    "Ques5.Explain ImportError.What is ModuleNotFoundError?"
   ]
  },
  {
   "cell_type": "markdown",
   "id": "5fcb1fde-9226-4d6d-a52f-6d6a784576a2",
   "metadata": {},
   "source": [
    "Ans. \"ImportError\" is a built-in Exception class in python that is raised when an imported module,package,or name cannot be found or loaded.This can occure due to various reasons such as misspelled module name,missing dependencies or incorrect python path settings.\n",
    "   example- \"ModuleNotFoundFrror\" is a more specific type of \"ImportError\" that was introduced in python 3.6.\n",
    "\n",
    " \"ModuleNotFoundError\" some other types of \"ImportError\"that we may encounter include:"
   ]
  },
  {
   "cell_type": "code",
   "execution_count": null,
   "id": "9b2c0ef9-c0a4-48d6-b004-e0039593a36f",
   "metadata": {},
   "outputs": [],
   "source": [
    "        1.\"ImportError:cannot import name\"\n",
    "        2.\"ImportError:DLL load failed\""
   ]
  },
  {
   "cell_type": "markdown",
   "id": "d10aca42-c504-4867-8257-e8ba976af1e8",
   "metadata": {},
   "source": [
    "Ques6.List down some best practices for exception handling in python."
   ]
  },
  {
   "cell_type": "markdown",
   "id": "3cc14f12-7f89-4aa8-b4b8-608203db8699",
   "metadata": {},
   "source": [
    "Ans. \n",
    "      1.Catch Specific exceptions\n",
    "      2.Use try-except blocks\n",
    "      3.Use finally block\n",
    "      4.Raise exception\n",
    "      5.provide useful error messages\n",
    "      6.Log the exceptions\n",
    "      7.Use context managers\n",
    "      8.Test exception handling"
   ]
  }
 ],
 "metadata": {
  "kernelspec": {
   "display_name": "Python 3 (ipykernel)",
   "language": "python",
   "name": "python3"
  },
  "language_info": {
   "codemirror_mode": {
    "name": "ipython",
    "version": 3
   },
   "file_extension": ".py",
   "mimetype": "text/x-python",
   "name": "python",
   "nbconvert_exporter": "python",
   "pygments_lexer": "ipython3",
   "version": "3.10.8"
  }
 },
 "nbformat": 4,
 "nbformat_minor": 5
}
