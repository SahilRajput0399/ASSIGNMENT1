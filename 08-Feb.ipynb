{
 "cells": [
  {
   "cell_type": "markdown",
   "id": "e3e627db-345f-4537-9dbf-52646e2cd41e",
   "metadata": {},
   "source": [
    "Ques1. What is Abstraction in OOps? Explain with an example."
   ]
  },
  {
   "cell_type": "markdown",
   "id": "1f5224cb-ffca-4bef-a8c7-4400902caed7",
   "metadata": {},
   "source": [
    "Ans. Abstraction is one of the fundamental concepts of Object-Oriented Programming (OOPs) that allows us to hide the implementation details of a class from the outside world and show only the essential features to the user. "
   ]
  },
  {
   "cell_type": "code",
   "execution_count": null,
   "id": "cfc5b627-dd33-463f-a3da-fc22f30876f8",
   "metadata": {},
   "outputs": [],
   "source": [
    "\n",
    "\n",
    "from abc import ABC, abstractmethod\n",
    "\n",
    "class Polygon(ABC):\n",
    "\n",
    "\t@abstractmethod\n",
    "\tdef noofsides(self):\n",
    "\t\tpass\n",
    "\n",
    "class Triangle(Polygon):\n",
    "\n",
    "\tdef noofsides(self):\n",
    "\t\tprint(\"I have 3 sides\")\n",
    "\n",
    "class Pentagon(Polygon):\n",
    "\n",
    "\tdef noofsides(self):\n",
    "\t\tprint(\"I have 5 sides\")\n",
    "\n",
    "class Hexagon(Polygon):\n",
    "\n",
    "\tdef noofsides(self):\n",
    "\t\tprint(\"I have 6 sides\")\n",
    "\n",
    "class Quadrilateral(Polygon):\n",
    "\n",
    "\tdef noofsides(self):\n",
    "\t\tprint(\"I have 4 sides\")\n",
    "\n",
    "\n",
    "R = Triangle()\n",
    "R.noofsides()\n",
    "\n",
    "K = Quadrilateral()\n",
    "K.noofsides()\n",
    "\n",
    "R = Pentagon()\n",
    "R.noofsides()\n",
    "\n",
    "K = Hexagon()\n",
    "K.noofsides()\n"
   ]
  },
  {
   "cell_type": "markdown",
   "id": "9af25a7f-2aac-4196-a819-6c5a48f3cf5d",
   "metadata": {},
   "source": [
    "Ques2. Differentiate between Abstraction and Encapsulation. Explain with an example."
   ]
  },
  {
   "cell_type": "markdown",
   "id": "8c9d4c20-d8d9-4da4-9eef-c7b202f91bca",
   "metadata": {},
   "source": [
    "Ans.  Abstraction is the process of hiding complex implementation details and providing a simplified interface to the user. \n",
    "    Encapsulation is the process of wrapping data and code in a single unit and protecting it from outside interference or misuse. \n",
    "    \n",
    "    "
   ]
  },
  {
   "cell_type": "markdown",
   "id": "7e38d60a-17ce-4882-9e41-cde0afaa62c9",
   "metadata": {},
   "source": [
    "For example-  Car\n",
    "           Abstraction-Presenting the car to the user in a simplified way,such as a means of transportation.The user does not need to know how the car works,just what it does.\n",
    "           Encapsulation is achieved by wrapping the internal mechanics of the car within iths physical structures.,so that the user does not have direct access to the  engine,gears, and wheel"
   ]
  },
  {
   "cell_type": "markdown",
   "id": "caad0c41-7ae2-469b-9b5a-109ead467188",
   "metadata": {},
   "source": [
    "Ques3. What is abc module in python? Why is it used?"
   ]
  },
  {
   "cell_type": "markdown",
   "id": "aa5f3e00-95ae-4b2f-b2a7-ad971387d8b4",
   "metadata": {},
   "source": [
    "Ans. The abc module in Python stands for \"Abstract Base Classes\". It provides a way to define abstract classes, which cannot be instantiated directly, but can be used as base classes for other classes.\n",
    "An abstract class is a class that defines one or more abstract methods, which are declared but not implemented. An abstract method is a method that is defined in the abstract class, but does not have an implementation. Instead, the implementation of the abstract method is provided by the subclass that inherits from the abstract class.\n"
   ]
  },
  {
   "cell_type": "markdown",
   "id": "d264f750-9ca6-4fea-a638-5e07774515a5",
   "metadata": {},
   "source": [
    "Ques4. How can we achieve data abstraction?"
   ]
  },
  {
   "cell_type": "markdown",
   "id": "fd3fe267-23f0-45da-b367-c99ae326e10d",
   "metadata": {},
   "source": [
    "Ans. In object-oriented programming, data abstraction can be achieved through the use of abstract classes, interfaces, and access modifiers such as public, private, and protected.\n",
    "\n"
   ]
  },
  {
   "cell_type": "markdown",
   "id": "4e47e292-c2ef-496f-8288-bae3991552cc",
   "metadata": {},
   "source": [
    "Ques5. Can we create an instance of an abstract class? Explain your answer."
   ]
  },
  {
   "cell_type": "markdown",
   "id": "ccff06dc-f46d-4c22-a053-27999cc0c0ff",
   "metadata": {},
   "source": [
    "Ans. No, we cannot create an instance of an abstract class in Python. Abstract classes are designed to be inherited by other classes, which then provide concrete implementations of the abstract methods defined in the abstract class.\n",
    "\n",
    "An abstract class is a class that contains one or more abstract methods, which are methods that have been declared but not implemented."
   ]
  },
  {
   "cell_type": "code",
   "execution_count": 6,
   "id": "f2b9b158-352a-4471-9438-b424c01d0982",
   "metadata": {},
   "outputs": [],
   "source": [
    "from abc import ABC, abstractmethod\n",
    "\n",
    "class MyAbstractClass(ABC):\n",
    "    \n",
    "    @abstractmethod\n",
    "    def my_method(self):\n",
    "        pass\n"
   ]
  },
  {
   "cell_type": "code",
   "execution_count": 7,
   "id": "ea16a42e-3b64-4c11-bd57-2dba087adf67",
   "metadata": {},
   "outputs": [
    {
     "ename": "TypeError",
     "evalue": "Can't instantiate abstract class MyAbstractClass with abstract method my_method",
     "output_type": "error",
     "traceback": [
      "\u001b[0;31m---------------------------------------------------------------------------\u001b[0m",
      "\u001b[0;31mTypeError\u001b[0m                                 Traceback (most recent call last)",
      "Cell \u001b[0;32mIn[7], line 1\u001b[0m\n\u001b[0;32m----> 1\u001b[0m abstract_obj \u001b[38;5;241m=\u001b[39m \u001b[43mMyAbstractClass\u001b[49m\u001b[43m(\u001b[49m\u001b[43m)\u001b[49m\n\u001b[1;32m      3\u001b[0m \u001b[38;5;66;03m#TYPE ERROR\u001b[39;00m\n",
      "\u001b[0;31mTypeError\u001b[0m: Can't instantiate abstract class MyAbstractClass with abstract method my_method"
     ]
    }
   ],
   "source": [
    "abstract_obj = MyAbstractClass()\n",
    "\n",
    "#TYPE ERROR"
   ]
  }
 ],
 "metadata": {
  "kernelspec": {
   "display_name": "Python 3 (ipykernel)",
   "language": "python",
   "name": "python3"
  },
  "language_info": {
   "codemirror_mode": {
    "name": "ipython",
    "version": 3
   },
   "file_extension": ".py",
   "mimetype": "text/x-python",
   "name": "python",
   "nbconvert_exporter": "python",
   "pygments_lexer": "ipython3",
   "version": "3.10.8"
  }
 },
 "nbformat": 4,
 "nbformat_minor": 5
}
